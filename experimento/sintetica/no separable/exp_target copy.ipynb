{
 "cells": [
  {
   "cell_type": "markdown",
   "id": "1f2e4806",
   "metadata": {},
   "source": [
    "# Leer datasets"
   ]
  },
  {
   "cell_type": "code",
   "execution_count": 1,
   "id": "cdf05312",
   "metadata": {},
   "outputs": [
    {
     "data": {
      "application/vnd.microsoft.datawrangler.viewer.v0+json": {
       "columns": [
        {
         "name": "index",
         "rawType": "int64",
         "type": "integer"
        },
        {
         "name": "X1",
         "rawType": "float64",
         "type": "float"
        },
        {
         "name": "X2",
         "rawType": "float64",
         "type": "float"
        }
       ],
       "ref": "0e225e16-8607-42f3-a838-876fa712ed72",
       "rows": [
        [
         "0",
         "-3.0",
         "-3.0"
        ],
        [
         "1",
         "-3.0",
         "3.0"
        ],
        [
         "2",
         "3.0",
         "-3.0"
        ],
        [
         "3",
         "3.0",
         "3.0"
        ],
        [
         "4",
         "-0.417091",
         "0.114782"
        ]
       ],
       "shape": {
        "columns": 2,
        "rows": 5
       }
      },
      "text/html": [
       "<div>\n",
       "<style scoped>\n",
       "    .dataframe tbody tr th:only-of-type {\n",
       "        vertical-align: middle;\n",
       "    }\n",
       "\n",
       "    .dataframe tbody tr th {\n",
       "        vertical-align: top;\n",
       "    }\n",
       "\n",
       "    .dataframe thead th {\n",
       "        text-align: right;\n",
       "    }\n",
       "</style>\n",
       "<table border=\"1\" class=\"dataframe\">\n",
       "  <thead>\n",
       "    <tr style=\"text-align: right;\">\n",
       "      <th></th>\n",
       "      <th>X1</th>\n",
       "      <th>X2</th>\n",
       "    </tr>\n",
       "  </thead>\n",
       "  <tbody>\n",
       "    <tr>\n",
       "      <th>0</th>\n",
       "      <td>-3.000000</td>\n",
       "      <td>-3.000000</td>\n",
       "    </tr>\n",
       "    <tr>\n",
       "      <th>1</th>\n",
       "      <td>-3.000000</td>\n",
       "      <td>3.000000</td>\n",
       "    </tr>\n",
       "    <tr>\n",
       "      <th>2</th>\n",
       "      <td>3.000000</td>\n",
       "      <td>-3.000000</td>\n",
       "    </tr>\n",
       "    <tr>\n",
       "      <th>3</th>\n",
       "      <td>3.000000</td>\n",
       "      <td>3.000000</td>\n",
       "    </tr>\n",
       "    <tr>\n",
       "      <th>4</th>\n",
       "      <td>-0.417091</td>\n",
       "      <td>0.114782</td>\n",
       "    </tr>\n",
       "  </tbody>\n",
       "</table>\n",
       "</div>"
      ],
      "text/plain": [
       "         X1        X2\n",
       "0 -3.000000 -3.000000\n",
       "1 -3.000000  3.000000\n",
       "2  3.000000 -3.000000\n",
       "3  3.000000  3.000000\n",
       "4 -0.417091  0.114782"
      ]
     },
     "execution_count": 1,
     "metadata": {},
     "output_type": "execute_result"
    }
   ],
   "source": [
    "import pandas as pd\n",
    "import numpy as np\n",
    "\n",
    "target = pd.read_csv('../../../data/sintetica/separable/Target_Data.csv')\n",
    "labels = pd.read_csv('../../../data/sintetica/separable/Target_Labels.csv')\n",
    "target.head()"
   ]
  },
  {
   "cell_type": "markdown",
   "id": "7143905b",
   "metadata": {},
   "source": [
    "# Realizamos los clusters"
   ]
  },
  {
   "cell_type": "code",
   "execution_count": 2,
   "id": "f6a5e3a8",
   "metadata": {},
   "outputs": [
    {
     "name": "stderr",
     "output_type": "stream",
     "text": [
      "/home/dani/Documents/GitHub/Trabajo-dirigido-clustering/.venv/lib/python3.12/site-packages/sklearn/manifold/_spectral_embedding.py:328: UserWarning: Graph is not fully connected, spectral embedding may not work as expected.\n",
      "  warnings.warn(\n"
     ]
    }
   ],
   "source": [
    "from sklearn.cluster import KMeans, DBSCAN, AgglomerativeClustering, MeanShift, SpectralClustering, AffinityPropagation, Birch, OPTICS, BisectingKMeans\n",
    "from sklearn.mixture import GaussianMixture\n",
    "n_clusters = np.unique(labels['x']).size\n",
    "clustering_algorithms = {\n",
    "    'KMeans': KMeans(n_clusters=n_clusters, random_state=42),\n",
    "    'DBSCAN': DBSCAN(eps=0.7, min_samples=5),\n",
    "    'AgglomerativeClustering': AgglomerativeClustering(n_clusters=n_clusters),\n",
    "    'SpectralClustering': SpectralClustering(n_clusters=n_clusters, affinity='nearest_neighbors'),\n",
    "}\n",
    "results = {}\n",
    "for name, algorithm in clustering_algorithms.items():\n",
    "    try:\n",
    "        algorithm.fit(target)\n",
    "        if hasattr(algorithm, 'labels_'):\n",
    "            labels = algorithm.labels_\n",
    "        elif hasattr(algorithm, 'predict'):\n",
    "            labels = algorithm.predict(target)\n",
    "        else:\n",
    "            labels = algorithm.means_.argmax(axis=0)  # For GaussianMixture\n",
    "        results[name] = labels\n",
    "    except Exception as e:\n",
    "        print(f\"Error with {name}: {e}\")"
   ]
  },
  {
   "cell_type": "code",
   "execution_count": 3,
   "id": "e58d6f76",
   "metadata": {},
   "outputs": [
    {
     "data": {
      "image/png": "[encoded data removed]",
      "text/plain": [
       "<Figure size 1500x2000 with 4 Axes>"
      ]
     },
     "metadata": {},
     "output_type": "display_data"
    }
   ],
   "source": [
    "import matplotlib.pyplot as plt\n",
    "plt.figure(figsize=(15, 20))\n",
    "for i, (name, labels) in enumerate(results.items(), 1):\n",
    "    plt.subplot(4, 3, i)\n",
    "    plt.scatter(target.iloc[:, 0], target.iloc[:, 1], c=labels, cmap='viridis', s=50)\n",
    "    plt.title(name)"
   ]
  },
  {
   "cell_type": "code",
   "execution_count": 4,
   "id": "71e7c9eb",
   "metadata": {},
   "outputs": [],
   "source": [
    "#definimos dunn index\n",
    "def dunn_index(data, labels):\n",
    "    unique_labels = np.unique(labels)\n",
    "    if len(unique_labels) < 2:\n",
    "        return 0.0\n",
    "\n",
    "    inter_cluster_distances = []\n",
    "    intra_cluster_distances = []\n",
    "\n",
    "    for i in range(len(unique_labels)):\n",
    "        for j in range(i + 1, len(unique_labels)):\n",
    "            cluster_i = data[labels == unique_labels[i]]\n",
    "            cluster_j = data[labels == unique_labels[j]]\n",
    "            inter_distance = np.linalg.norm(cluster_i.mean(axis=0) - cluster_j.mean(axis=0))\n",
    "            inter_cluster_distances.append(inter_distance)\n",
    "\n",
    "        intra_distance = np.mean([np.linalg.norm(data[labels == unique_label] - data[labels == unique_label].mean(axis=0)) for unique_label in unique_labels])\n",
    "        intra_cluster_distances.append(intra_distance)\n",
    "\n",
    "    dunn_index_value = min(inter_cluster_distances) / max(intra_cluster_distances)\n",
    "    return dunn_index_value"
   ]
  },
  {
   "cell_type": "code",
   "execution_count": 5,
   "id": "a12285f0",
   "metadata": {},
   "outputs": [],
   "source": [
    "#podrias generar una metrica en que se calcule el valor maximo de distancia (entre las menores distancias de cada punto con otro dentro del mismo cluster) dividido por el valor minimo de distancia entre cualquier punto de un cluster con otro punto de otro cluster\n",
    "import numpy as np\n",
    "from sklearn.metrics import pairwise_distances\n",
    "\n",
    "def custom_metric(X, labels):\n",
    "    X = np.array(X)\n",
    "    distances = pairwise_distances(X)\n",
    "    n = len(X)\n",
    "    \n",
    "    # Numerador: máximo de las mínimas distancias dentro del mismo cluster\n",
    "    max_min_intra = -np.inf\n",
    "    for i in range(n):\n",
    "        same_cluster = (labels == labels[i])\n",
    "        same_cluster[i] = False  # Exclude itself\n",
    "        if np.any(same_cluster):\n",
    "            min_dist = np.min(distances[i][same_cluster])\n",
    "            max_min_intra = max(max_min_intra, min_dist)\n",
    "    \n",
    "    # Denominador: mínima distancia entre puntos de distintos clusters\n",
    "    min_inter = np.inf\n",
    "    for i in range(n):\n",
    "        other_cluster = (labels != labels[i])\n",
    "        if np.any(other_cluster):\n",
    "            min_dist = np.min(distances[i][other_cluster])\n",
    "            min_inter = min(min_inter, min_dist)\n",
    "\n",
    "    M = max_min_intra / min_inter if min_inter != 0 else np.inf\n",
    "    return 1 /( 1 + M)\n"
   ]
  },
  {
   "cell_type": "code",
   "execution_count": 6,
   "id": "565506a0",
   "metadata": {},
   "outputs": [
    {
     "name": "stderr",
     "output_type": "stream",
     "text": [
      "/home/dani/Documents/GitHub/Trabajo-dirigido-clustering/.venv/lib/python3.12/site-packages/numpy/_core/fromnumeric.py:3859: RuntimeWarning: Mean of empty slice.\n",
      "  return _methods._mean(a, axis=axis, dtype=dtype,\n",
      "/home/dani/Documents/GitHub/Trabajo-dirigido-clustering/.venv/lib/python3.12/site-packages/numpy/_core/_methods.py:136: RuntimeWarning: invalid value encountered in divide\n",
      "  ret = um.true_divide(\n"
     ]
    },
    {
     "data": {
      "application/vnd.microsoft.datawrangler.viewer.v0+json": {
       "columns": [
        {
         "name": "index",
         "rawType": "object",
         "type": "string"
        },
        {
         "name": "Silhouette",
         "rawType": "float64",
         "type": "float"
        },
        {
         "name": "Calinski-Harabasz",
         "rawType": "float64",
         "type": "float"
        },
        {
         "name": "Davies-Bouldin",
         "rawType": "float64",
         "type": "float"
        },
        {
         "name": "Dunn",
         "rawType": "float64",
         "type": "float"
        },
        {
         "name": "Custom Metric",
         "rawType": "float64",
         "type": "float"
        },
        {
         "name": "dbcv",
         "rawType": "float64",
         "type": "float"
        }
       ],
       "ref": "19a860d8-1bfa-40f7-838c-ea2b728ab55b",
       "rows": [
        [
         "KMeans",
         "0.5814543325011958",
         "628.7643845936899",
         "0.6133502663614753",
         "0.25175468569145104",
         "0.25784233857907546",
         "0.9137271253035952"
        ],
        [
         "DBSCAN",
         "0.27620474177731674",
         "0.21295195019990704",
         "166.27409956601883",
         "0.0013485042546714618",
         "0.844140668324233",
         null
        ],
        [
         "AgglomerativeClustering",
         "0.5683249608036377",
         "576.1029628539868",
         "0.6680169814593389",
         "0.21926653808381147",
         "0.4385782425189652",
         "0.9164566831495412"
        ],
        [
         "SpectralClustering",
         "0.3687426248310798",
         "514.8809466299301",
         "0.8309256782895079",
         "0.06328989702465165",
         "0.10408706084697301",
         "0.9577240872534438"
        ]
       ],
       "shape": {
        "columns": 6,
        "rows": 4
       }
      },
      "text/html": [
       "<div>\n",
       "<style scoped>\n",
       "    .dataframe tbody tr th:only-of-type {\n",
       "        vertical-align: middle;\n",
       "    }\n",
       "\n",
       "    .dataframe tbody tr th {\n",
       "        vertical-align: top;\n",
       "    }\n",
       "\n",
       "    .dataframe thead th {\n",
       "        text-align: right;\n",
       "    }\n",
       "</style>\n",
       "<table border=\"1\" class=\"dataframe\">\n",
       "  <thead>\n",
       "    <tr style=\"text-align: right;\">\n",
       "      <th></th>\n",
       "      <th>Silhouette</th>\n",
       "      <th>Calinski-Harabasz</th>\n",
       "      <th>Davies-Bouldin</th>\n",
       "      <th>Dunn</th>\n",
       "      <th>Custom Metric</th>\n",
       "      <th>dbcv</th>\n",
       "    </tr>\n",
       "  </thead>\n",
       "  <tbody>\n",
       "    <tr>\n",
       "      <th>KMeans</th>\n",
       "      <td>0.581454</td>\n",
       "      <td>628.764385</td>\n",
       "      <td>0.613350</td>\n",
       "      <td>0.251755</td>\n",
       "      <td>0.257842</td>\n",
       "      <td>0.913727</td>\n",
       "    </tr>\n",
       "    <tr>\n",
       "      <th>DBSCAN</th>\n",
       "      <td>0.276205</td>\n",
       "      <td>0.212952</td>\n",
       "      <td>166.274100</td>\n",
       "      <td>0.001349</td>\n",
       "      <td>0.844141</td>\n",
       "      <td>NaN</td>\n",
       "    </tr>\n",
       "    <tr>\n",
       "      <th>AgglomerativeClustering</th>\n",
       "      <td>0.568325</td>\n",
       "      <td>576.102963</td>\n",
       "      <td>0.668017</td>\n",
       "      <td>0.219267</td>\n",
       "      <td>0.438578</td>\n",
       "      <td>0.916457</td>\n",
       "    </tr>\n",
       "    <tr>\n",
       "      <th>SpectralClustering</th>\n",
       "      <td>0.368743</td>\n",
       "      <td>514.880947</td>\n",
       "      <td>0.830926</td>\n",
       "      <td>0.063290</td>\n",
       "      <td>0.104087</td>\n",
       "      <td>0.957724</td>\n",
       "    </tr>\n",
       "  </tbody>\n",
       "</table>\n",
       "</div>"
      ],
      "text/plain": [
       "                         Silhouette  Calinski-Harabasz  Davies-Bouldin  \\\n",
       "KMeans                     0.581454         628.764385        0.613350   \n",
       "DBSCAN                     0.276205           0.212952      166.274100   \n",
       "AgglomerativeClustering    0.568325         576.102963        0.668017   \n",
       "SpectralClustering         0.368743         514.880947        0.830926   \n",
       "\n",
       "                             Dunn  Custom Metric      dbcv  \n",
       "KMeans                   0.251755       0.257842  0.913727  \n",
       "DBSCAN                   0.001349       0.844141       NaN  \n",
       "AgglomerativeClustering  0.219267       0.438578  0.916457  \n",
       "SpectralClustering       0.063290       0.104087  0.957724  "
      ]
     },
     "execution_count": 6,
     "metadata": {},
     "output_type": "execute_result"
    }
   ],
   "source": [
    "from sklearn.metrics import silhouette_score, calinski_harabasz_score, davies_bouldin_score\n",
    "from permetrics import ClusteringMetric\n",
    "def evaluate_clustering(data, labels):\n",
    "    if len(set(labels)) < 2:\n",
    "        return {\n",
    "            'Silhouette Score': None,\n",
    "            'Calinski-Harabasz Score': None,\n",
    "            'Davies-Bouldin Score': None,\n",
    "            'Dunn Index': None,\n",
    "            'custom_metric': None,\n",
    "            'dbcv': None\n",
    "        }\n",
    "    \n",
    "    silhouette = silhouette_score(data, labels)\n",
    "    calinski_harabasz = calinski_harabasz_score(data, labels)\n",
    "    davies_bouldin = davies_bouldin_score(data, labels)\n",
    "    dunn = dunn_index(data.values, labels)\n",
    "    custom = custom_metric(data.values, labels)\n",
    "    dbcv = ClusteringMetric(X=data.values, y_pred=labels).DBCVI()\n",
    "\n",
    "    return {\n",
    "        'Silhouette Score': silhouette,\n",
    "        'Calinski-Harabasz Score': calinski_harabasz,\n",
    "        'Davies-Bouldin Score': davies_bouldin,\n",
    "        'Dunn Index': dunn,\n",
    "        'custom_metric': custom,\n",
    "        'dbcv': dbcv\n",
    "    }\n",
    "evaluation_results = {}\n",
    "for name, labels in results.items():\n",
    "    evaluation_results[name] = evaluate_clustering(target, labels)\n",
    "evaluation_df = pd.DataFrame(evaluation_results).T\n",
    "evaluation_df = evaluation_df.rename(columns={\n",
    "    'Silhouette Score': 'Silhouette',\n",
    "    'Calinski-Harabasz Score': 'Calinski-Harabasz',\n",
    "    'Davies-Bouldin Score': 'Davies-Bouldin',\n",
    "    'Dunn Index': 'Dunn',\n",
    "    'custom_metric': 'Custom Metric'\n",
    "})\n",
    "evaluation_df"
   ]
  },
  {
   "cell_type": "code",
   "execution_count": 7,
   "id": "83246bda",
   "metadata": {},
   "outputs": [
    {
     "data": {
      "application/vnd.microsoft.datawrangler.viewer.v0+json": {
       "columns": [
        {
         "name": "index",
         "rawType": "object",
         "type": "string"
        },
        {
         "name": "Silhouette",
         "rawType": "float64",
         "type": "float"
        },
        {
         "name": "Calinski-Harabasz",
         "rawType": "float64",
         "type": "float"
        },
        {
         "name": "Davies-Bouldin",
         "rawType": "float64",
         "type": "float"
        },
        {
         "name": "Dunn",
         "rawType": "float64",
         "type": "float"
        },
        {
         "name": "Custom Metric",
         "rawType": "float64",
         "type": "float"
        },
        {
         "name": "dbcv",
         "rawType": "float64",
         "type": "float"
        },
        {
         "name": "Weighted Score",
         "rawType": "float64",
         "type": "float"
        }
       ],
       "ref": "55258ed9-eb2f-47e5-8af9-52adbba6a3f1",
       "rows": [
        [
         "AgglomerativeClustering",
         "0.5683249608036377",
         "576.1029628539868",
         "0.6680169814593389",
         "0.21926653808381147",
         "0.4385782425189652",
         "0.9164566831495412",
         "0.4963637184679537"
        ],
        [
         "KMeans",
         "0.5814543325011958",
         "628.7643845936899",
         "0.6133502663614753",
         "0.25175468569145104",
         "0.25784233857907546",
         "0.9137271253035952",
         "0.4192110348835773"
        ],
        [
         "DBSCAN",
         "0.27620474177731674",
         "0.21295195019990704",
         "166.27409956601883",
         "0.0013485042546714618",
         "0.844140668324233",
         "0.0",
         "0.3138896325042287"
        ],
        [
         "SpectralClustering",
         "0.3687426248310798",
         "514.8809466299301",
         "0.8309256782895079",
         "0.06328989702465165",
         "0.10408706084697301",
         "0.9577240872534438",
         "0.24729671135510461"
        ]
       ],
       "shape": {
        "columns": 7,
        "rows": 4
       }
      },
      "text/html": [
       "<div>\n",
       "<style scoped>\n",
       "    .dataframe tbody tr th:only-of-type {\n",
       "        vertical-align: middle;\n",
       "    }\n",
       "\n",
       "    .dataframe tbody tr th {\n",
       "        vertical-align: top;\n",
       "    }\n",
       "\n",
       "    .dataframe thead th {\n",
       "        text-align: right;\n",
       "    }\n",
       "</style>\n",
       "<table border=\"1\" class=\"dataframe\">\n",
       "  <thead>\n",
       "    <tr style=\"text-align: right;\">\n",
       "      <th></th>\n",
       "      <th>Silhouette</th>\n",
       "      <th>Calinski-Harabasz</th>\n",
       "      <th>Davies-Bouldin</th>\n",
       "      <th>Dunn</th>\n",
       "      <th>Custom Metric</th>\n",
       "      <th>dbcv</th>\n",
       "      <th>Weighted Score</th>\n",
       "    </tr>\n",
       "  </thead>\n",
       "  <tbody>\n",
       "    <tr>\n",
       "      <th>AgglomerativeClustering</th>\n",
       "      <td>0.568325</td>\n",
       "      <td>576.102963</td>\n",
       "      <td>0.668017</td>\n",
       "      <td>0.219267</td>\n",
       "      <td>0.438578</td>\n",
       "      <td>0.916457</td>\n",
       "      <td>0.496364</td>\n",
       "    </tr>\n",
       "    <tr>\n",
       "      <th>KMeans</th>\n",
       "      <td>0.581454</td>\n",
       "      <td>628.764385</td>\n",
       "      <td>0.613350</td>\n",
       "      <td>0.251755</td>\n",
       "      <td>0.257842</td>\n",
       "      <td>0.913727</td>\n",
       "      <td>0.419211</td>\n",
       "    </tr>\n",
       "    <tr>\n",
       "      <th>DBSCAN</th>\n",
       "      <td>0.276205</td>\n",
       "      <td>0.212952</td>\n",
       "      <td>166.274100</td>\n",
       "      <td>0.001349</td>\n",
       "      <td>0.844141</td>\n",
       "      <td>0.000000</td>\n",
       "      <td>0.313890</td>\n",
       "    </tr>\n",
       "    <tr>\n",
       "      <th>SpectralClustering</th>\n",
       "      <td>0.368743</td>\n",
       "      <td>514.880947</td>\n",
       "      <td>0.830926</td>\n",
       "      <td>0.063290</td>\n",
       "      <td>0.104087</td>\n",
       "      <td>0.957724</td>\n",
       "      <td>0.247297</td>\n",
       "    </tr>\n",
       "  </tbody>\n",
       "</table>\n",
       "</div>"
      ],
      "text/plain": [
       "                         Silhouette  Calinski-Harabasz  Davies-Bouldin  \\\n",
       "AgglomerativeClustering    0.568325         576.102963        0.668017   \n",
       "KMeans                     0.581454         628.764385        0.613350   \n",
       "DBSCAN                     0.276205           0.212952      166.274100   \n",
       "SpectralClustering         0.368743         514.880947        0.830926   \n",
       "\n",
       "                             Dunn  Custom Metric      dbcv  Weighted Score  \n",
       "AgglomerativeClustering  0.219267       0.438578  0.916457        0.496364  \n",
       "KMeans                   0.251755       0.257842  0.913727        0.419211  \n",
       "DBSCAN                   0.001349       0.844141  0.000000        0.313890  \n",
       "SpectralClustering       0.063290       0.104087  0.957724        0.247297  "
      ]
     },
     "execution_count": 7,
     "metadata": {},
     "output_type": "execute_result"
    }
   ],
   "source": [
    "#elige los mejores 3 resultados ponderando el orden de cada métrica\n",
    "def weighted_score(row):\n",
    "    weights = {\n",
    "        'Silhouette': 0.2,\n",
    "        'Calinski-Harabasz': -0.2,\n",
    "        'Davies-Bouldin': 0.2,  # Negativo porque queremos minimizar\n",
    "        'Dunn': 0.2,\n",
    "        'Custom Metric': 0.5 # Puedes ajustar este peso según su importancia\n",
    "    }\n",
    "    score = (row['Silhouette'] * weights['Silhouette'] +\n",
    "                1/(1+row['Calinski-Harabasz']) * weights['Calinski-Harabasz'] +\n",
    "                1/(1+row['Davies-Bouldin']) * weights['Davies-Bouldin'] +\n",
    "                row['Dunn'] * weights['Dunn'] +\n",
    "                row['Custom Metric'] * weights['Custom Metric'])\n",
    "    return score\n",
    "# Replace None values with 0 for scoring\n",
    "evaluation_df_filled = evaluation_df.fillna(0)\n",
    "evaluation_df_filled['Weighted Score'] = evaluation_df_filled.apply(weighted_score, axis=1)\n",
    "top_3_algorithms = evaluation_df_filled.nlargest(4, 'Weighted Score')\n",
    "top_3_algorithms"
   ]
  },
  {
   "cell_type": "markdown",
   "id": "cd272c38",
   "metadata": {},
   "source": [
    "# Interpretar"
   ]
  },
  {
   "cell_type": "code",
   "execution_count": 8,
   "id": "047e86b2",
   "metadata": {},
   "outputs": [],
   "source": [
    "import sys\n",
    "sys.path.append('../../..')\n",
    "from ripper import MultiClassRipperClassifier\n",
    "from dsgd import DSClassifierMultiQ\n",
    "from sklearn.tree import DecisionTreeClassifier\n",
    "from sklearn.model_selection import train_test_split\n",
    "from sklearn.metrics import accuracy_score\n",
    "from sklearn import tree as sk_tree"
   ]
  },
  {
   "cell_type": "code",
   "execution_count": 9,
   "id": "024f7c39",
   "metadata": {},
   "outputs": [
    {
     "name": "stdout",
     "output_type": "stream",
     "text": [
      "Processing AgglomerativeClustering with 6 clusters\n",
      "Ripper Accuracy for AgglomerativeClustering: 0.94\n",
      "Decision Tree Accuracy for AgglomerativeClustering: 0.84\n",
      "Optimization started\n",
      "\n",
      "Training time: 19.68s, epochs: 181\n",
      "\n",
      "Least training loss reached: 0.011\n",
      "DSGD Accuracy for AgglomerativeClustering: 0.97\n",
      "--------------------------------------------------------------------------------\n",
      "Processing KMeans with 6 clusters\n",
      "Ripper Accuracy for KMeans: 0.94\n",
      "Decision Tree Accuracy for KMeans: 0.83\n",
      "Optimization started\n",
      "\n",
      "Training time: 20.71s, epochs: 189\n",
      "\n",
      "Least training loss reached: 0.010\n",
      "DSGD Accuracy for KMeans: 0.94\n",
      "--------------------------------------------------------------------------------\n",
      "Processing DBSCAN with 2 clusters\n",
      "Ripper Accuracy for DBSCAN: 1.00\n",
      "Decision Tree Accuracy for DBSCAN: 0.89\n",
      "Optimization started\n",
      "\n",
      "Training time: 21.73s, epochs: 200\n",
      "\n",
      "Least training loss reached: 0.039\n",
      "DSGD Accuracy for DBSCAN: 1.00\n",
      "--------------------------------------------------------------------------------\n",
      "Processing SpectralClustering with 6 clusters\n",
      "Ripper Accuracy for SpectralClustering: 0.94\n",
      "Decision Tree Accuracy for SpectralClustering: 0.78\n",
      "Optimization started\n",
      "\n",
      "Training time: 16.28s, epochs: 151\n",
      "\n",
      "Least training loss reached: 0.029\n",
      "DSGD Accuracy for SpectralClustering: 0.87\n",
      "--------------------------------------------------------------------------------\n"
     ]
    }
   ],
   "source": [
    "# interpretamos solo los mejores 3 resultados y guardamos los modelos\n",
    "saved_models = {}\n",
    "top_3_labels = {name: results[name] for name in top_3_algorithms.index}\n",
    "top_3_data = target.copy()\n",
    "for name, labels in top_3_labels.items():\n",
    "    # eliminamos los valores de labels negativos\n",
    "    mask = labels >= 0\n",
    "    filtered_data = top_3_data[mask]\n",
    "    filtered_labels = labels[mask]\n",
    "    n = len(np.unique(filtered_labels))\n",
    "    X_train, X_test, y_train, y_test = train_test_split(filtered_data, filtered_labels, test_size=0.2, random_state=42)\n",
    "    print(f'Processing {name} with {n} clusters')\n",
    "    \n",
    "    # Ripper\n",
    "    ripper = MultiClassRipperClassifier(random_state=43)\n",
    "    ripper.fit(X_train, y_train)\n",
    "    y_pred_ripper = ripper.predict(X_test)\n",
    "    print(f'Ripper Accuracy for {name}: {accuracy_score(y_test, y_pred_ripper):.2f}')\n",
    "    saved_models.setdefault(name, {})['ripper'] = ripper\n",
    "    \n",
    "    # Decision Tree\n",
    "    dtree = DecisionTreeClassifier(random_state=42, max_depth=5, min_weight_fraction_leaf=0.1)\n",
    "    dtree.fit(X_train, y_train)\n",
    "    dtree_pred = dtree.predict(X_test)\n",
    "    print(f'Decision Tree Accuracy for {name}: {accuracy_score(y_test, dtree_pred):.2f}')\n",
    "    saved_models[name]['dtree'] = dtree\n",
    "    \n",
    "    # DSGD\n",
    "    ds = DSClassifierMultiQ(n, min_iter=20, max_iter=200, debug_mode=True, lossfn=\"MSE\", num_workers=0, min_dloss=1e-7)\n",
    "    X = X_train.to_numpy()\n",
    "    losses, epoch, dt = ds.fit(X, y_train, add_single_rules=True, single_rules_breaks=3, add_mult_rules=False, column_names=X_train.columns)\n",
    "    x_test = X_test.to_numpy()\n",
    "    y_pred_ds = ds.predict(x_test)\n",
    "    print(f'DSGD Accuracy for {name}: {accuracy_score(y_test, y_pred_ds):.2f}')\n",
    "    saved_models[name]['ds'] = ds\n",
    "    \n",
    "    print('--' * 40)\n"
   ]
  }
 ],
 "metadata": {
  "kernelspec": {
   "display_name": ".venv",
   "language": "python",
   "name": "python3"
  },
  "language_info": {
   "codemirror_mode": {
    "name": "ipython",
    "version": 3
   },
   "file_extension": ".py",
   "mimetype": "text/x-python",
   "name": "python",
   "nbconvert_exporter": "python",
   "pygments_lexer": "ipython3",
   "version": "3.12.3"
  }
 },
 "nbformat": 4,
 "nbformat_minor": 5
}
