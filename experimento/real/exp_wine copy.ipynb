{
 "cells": [
  {
   "cell_type": "markdown",
   "id": "1f2e4806",
   "metadata": {},
   "source": [
    "# Leer datasets"
   ]
  },
  {
   "cell_type": "code",
   "execution_count": 1,
   "id": "cdf05312",
   "metadata": {},
   "outputs": [
    {
     "data": {
      "application/vnd.microsoft.datawrangler.viewer.v0+json": {
       "columns": [
        {
         "name": "index",
         "rawType": "int64",
         "type": "integer"
        },
        {
         "name": "alcohol",
         "rawType": "float64",
         "type": "float"
        },
        {
         "name": "malic_acid",
         "rawType": "float64",
         "type": "float"
        },
        {
         "name": "ash",
         "rawType": "float64",
         "type": "float"
        },
        {
         "name": "alcalinity_of_ash",
         "rawType": "float64",
         "type": "float"
        },
        {
         "name": "magnesium",
         "rawType": "float64",
         "type": "float"
        },
        {
         "name": "total_phenols",
         "rawType": "float64",
         "type": "float"
        },
        {
         "name": "flavanoids",
         "rawType": "float64",
         "type": "float"
        },
        {
         "name": "nonflavanoid_phenols",
         "rawType": "float64",
         "type": "float"
        },
        {
         "name": "proanthocyanins",
         "rawType": "float64",
         "type": "float"
        },
        {
         "name": "color_intensity",
         "rawType": "float64",
         "type": "float"
        },
        {
         "name": "hue",
         "rawType": "float64",
         "type": "float"
        },
        {
         "name": "od280/od315_of_diluted_wines",
         "rawType": "float64",
         "type": "float"
        },
        {
         "name": "proline",
         "rawType": "float64",
         "type": "float"
        }
       ],
       "ref": "a9031b8e-7401-4920-bc09-66e437c0dd7b",
       "rows": [
        [
         "0",
         "14.23",
         "1.71",
         "2.43",
         "15.6",
         "127.0",
         "2.8",
         "3.06",
         "0.28",
         "2.29",
         "5.64",
         "1.04",
         "3.92",
         "1065.0"
        ],
        [
         "1",
         "13.2",
         "1.78",
         "2.14",
         "11.2",
         "100.0",
         "2.65",
         "2.76",
         "0.26",
         "1.28",
         "4.38",
         "1.05",
         "3.4",
         "1050.0"
        ],
        [
         "2",
         "13.16",
         "2.36",
         "2.67",
         "18.6",
         "101.0",
         "2.8",
         "3.24",
         "0.3",
         "2.81",
         "5.68",
         "1.03",
         "3.17",
         "1185.0"
        ],
        [
         "3",
         "14.37",
         "1.95",
         "2.5",
         "16.8",
         "113.0",
         "3.85",
         "3.49",
         "0.24",
         "2.18",
         "7.8",
         "0.86",
         "3.45",
         "1480.0"
        ],
        [
         "4",
         "13.24",
         "2.59",
         "2.87",
         "21.0",
         "118.0",
         "2.8",
         "2.69",
         "0.39",
         "1.82",
         "4.32",
         "1.04",
         "2.93",
         "735.0"
        ]
       ],
       "shape": {
        "columns": 13,
        "rows": 5
       }
      },
      "text/html": [
       "<div>\n",
       "<style scoped>\n",
       "    .dataframe tbody tr th:only-of-type {\n",
       "        vertical-align: middle;\n",
       "    }\n",
       "\n",
       "    .dataframe tbody tr th {\n",
       "        vertical-align: top;\n",
       "    }\n",
       "\n",
       "    .dataframe thead th {\n",
       "        text-align: right;\n",
       "    }\n",
       "</style>\n",
       "<table border=\"1\" class=\"dataframe\">\n",
       "  <thead>\n",
       "    <tr style=\"text-align: right;\">\n",
       "      <th></th>\n",
       "      <th>alcohol</th>\n",
       "      <th>malic_acid</th>\n",
       "      <th>ash</th>\n",
       "      <th>alcalinity_of_ash</th>\n",
       "      <th>magnesium</th>\n",
       "      <th>total_phenols</th>\n",
       "      <th>flavanoids</th>\n",
       "      <th>nonflavanoid_phenols</th>\n",
       "      <th>proanthocyanins</th>\n",
       "      <th>color_intensity</th>\n",
       "      <th>hue</th>\n",
       "      <th>od280/od315_of_diluted_wines</th>\n",
       "      <th>proline</th>\n",
       "    </tr>\n",
       "  </thead>\n",
       "  <tbody>\n",
       "    <tr>\n",
       "      <th>0</th>\n",
       "      <td>14.23</td>\n",
       "      <td>1.71</td>\n",
       "      <td>2.43</td>\n",
       "      <td>15.6</td>\n",
       "      <td>127.0</td>\n",
       "      <td>2.80</td>\n",
       "      <td>3.06</td>\n",
       "      <td>0.28</td>\n",
       "      <td>2.29</td>\n",
       "      <td>5.64</td>\n",
       "      <td>1.04</td>\n",
       "      <td>3.92</td>\n",
       "      <td>1065.0</td>\n",
       "    </tr>\n",
       "    <tr>\n",
       "      <th>1</th>\n",
       "      <td>13.20</td>\n",
       "      <td>1.78</td>\n",
       "      <td>2.14</td>\n",
       "      <td>11.2</td>\n",
       "      <td>100.0</td>\n",
       "      <td>2.65</td>\n",
       "      <td>2.76</td>\n",
       "      <td>0.26</td>\n",
       "      <td>1.28</td>\n",
       "      <td>4.38</td>\n",
       "      <td>1.05</td>\n",
       "      <td>3.40</td>\n",
       "      <td>1050.0</td>\n",
       "    </tr>\n",
       "    <tr>\n",
       "      <th>2</th>\n",
       "      <td>13.16</td>\n",
       "      <td>2.36</td>\n",
       "      <td>2.67</td>\n",
       "      <td>18.6</td>\n",
       "      <td>101.0</td>\n",
       "      <td>2.80</td>\n",
       "      <td>3.24</td>\n",
       "      <td>0.30</td>\n",
       "      <td>2.81</td>\n",
       "      <td>5.68</td>\n",
       "      <td>1.03</td>\n",
       "      <td>3.17</td>\n",
       "      <td>1185.0</td>\n",
       "    </tr>\n",
       "    <tr>\n",
       "      <th>3</th>\n",
       "      <td>14.37</td>\n",
       "      <td>1.95</td>\n",
       "      <td>2.50</td>\n",
       "      <td>16.8</td>\n",
       "      <td>113.0</td>\n",
       "      <td>3.85</td>\n",
       "      <td>3.49</td>\n",
       "      <td>0.24</td>\n",
       "      <td>2.18</td>\n",
       "      <td>7.80</td>\n",
       "      <td>0.86</td>\n",
       "      <td>3.45</td>\n",
       "      <td>1480.0</td>\n",
       "    </tr>\n",
       "    <tr>\n",
       "      <th>4</th>\n",
       "      <td>13.24</td>\n",
       "      <td>2.59</td>\n",
       "      <td>2.87</td>\n",
       "      <td>21.0</td>\n",
       "      <td>118.0</td>\n",
       "      <td>2.80</td>\n",
       "      <td>2.69</td>\n",
       "      <td>0.39</td>\n",
       "      <td>1.82</td>\n",
       "      <td>4.32</td>\n",
       "      <td>1.04</td>\n",
       "      <td>2.93</td>\n",
       "      <td>735.0</td>\n",
       "    </tr>\n",
       "  </tbody>\n",
       "</table>\n",
       "</div>"
      ],
      "text/plain": [
       "   alcohol  malic_acid   ash  alcalinity_of_ash  magnesium  total_phenols  \\\n",
       "0    14.23        1.71  2.43               15.6      127.0           2.80   \n",
       "1    13.20        1.78  2.14               11.2      100.0           2.65   \n",
       "2    13.16        2.36  2.67               18.6      101.0           2.80   \n",
       "3    14.37        1.95  2.50               16.8      113.0           3.85   \n",
       "4    13.24        2.59  2.87               21.0      118.0           2.80   \n",
       "\n",
       "   flavanoids  nonflavanoid_phenols  proanthocyanins  color_intensity   hue  \\\n",
       "0        3.06                  0.28             2.29             5.64  1.04   \n",
       "1        2.76                  0.26             1.28             4.38  1.05   \n",
       "2        3.24                  0.30             2.81             5.68  1.03   \n",
       "3        3.49                  0.24             2.18             7.80  0.86   \n",
       "4        2.69                  0.39             1.82             4.32  1.04   \n",
       "\n",
       "   od280/od315_of_diluted_wines  proline  \n",
       "0                          3.92   1065.0  \n",
       "1                          3.40   1050.0  \n",
       "2                          3.17   1185.0  \n",
       "3                          3.45   1480.0  \n",
       "4                          2.93    735.0  "
      ]
     },
     "execution_count": 1,
     "metadata": {},
     "output_type": "execute_result"
    }
   ],
   "source": [
    "import pandas as pd\n",
    "import numpy as np\n",
    "from sklearn.datasets import load_wine\n",
    "\n",
    "wine = load_wine(as_frame=True)\n",
    "wine = wine.frame\n",
    "wine.drop(columns=['target'], inplace=True)\n",
    "wine.head()"
   ]
  },
  {
   "cell_type": "markdown",
   "id": "7143905b",
   "metadata": {},
   "source": [
    "# Realizamos los clusters"
   ]
  },
  {
   "cell_type": "code",
   "execution_count": 2,
   "id": "f6a5e3a8",
   "metadata": {},
   "outputs": [],
   "source": [
    "from sklearn.cluster import KMeans, DBSCAN, AgglomerativeClustering, MeanShift, SpectralClustering, AffinityPropagation, Birch, OPTICS, BisectingKMeans\n",
    "from sklearn.mixture import GaussianMixture\n",
    "n_clusters = 3\n",
    "clustering_algorithms = {\n",
    "    'KMeans': KMeans(n_clusters=n_clusters, random_state=42),\n",
    "    'DBSCAN': DBSCAN(eps=0.7, min_samples=5),\n",
    "    'AgglomerativeClustering': AgglomerativeClustering(n_clusters=n_clusters),\n",
    "}\n",
    "results = {}\n",
    "for name, algorithm in clustering_algorithms.items():\n",
    "    try:\n",
    "        algorithm.fit(wine)\n",
    "        if hasattr(algorithm, 'labels_'):\n",
    "            labels = algorithm.labels_\n",
    "        elif hasattr(algorithm, 'predict'):\n",
    "            labels = algorithm.predict(wine)\n",
    "        else:\n",
    "            labels = algorithm.means_.argmax(axis=0)  # For GaussianMixture\n",
    "        results[name] = labels\n",
    "    except Exception as e:\n",
    "        print(f\"Error with {name}: {e}\")"
   ]
  },
  {
   "cell_type": "code",
   "execution_count": 3,
   "id": "e58d6f76",
   "metadata": {},
   "outputs": [
    {
     "data": {
      "image/png": "[encoded data removed]",
      "text/plain": [
       "<Figure size 1500x2000 with 3 Axes>"
      ]
     },
     "metadata": {},
     "output_type": "display_data"
    }
   ],
   "source": [
    "import matplotlib.pyplot as plt\n",
    "from sklearn.decomposition import PCA\n",
    "pca = PCA(n_components=2)\n",
    "wine_pca = pca.fit_transform(wine)\n",
    "plt.figure(figsize=(15, 20))\n",
    "for i, (name, labels) in enumerate(results.items(), 1):\n",
    "    plt.subplot(4, 3, i)\n",
    "    plt.scatter(wine_pca[:, 0], wine_pca[:, 1], c=labels, cmap='viridis', s=10)\n",
    "    plt.title(name)"
   ]
  },
  {
   "cell_type": "code",
   "execution_count": 4,
   "id": "71e7c9eb",
   "metadata": {},
   "outputs": [],
   "source": [
    "#definimos dunn index\n",
    "def dunn_index(data, labels):\n",
    "    unique_labels = np.unique(labels)\n",
    "    if len(unique_labels) < 2:\n",
    "        return 0.0\n",
    "\n",
    "    inter_cluster_distances = []\n",
    "    intra_cluster_distances = []\n",
    "\n",
    "    for i in range(len(unique_labels)):\n",
    "        for j in range(i + 1, len(unique_labels)):\n",
    "            cluster_i = data[labels == unique_labels[i]]\n",
    "            cluster_j = data[labels == unique_labels[j]]\n",
    "            inter_distance = np.linalg.norm(cluster_i.mean(axis=0) - cluster_j.mean(axis=0))\n",
    "            inter_cluster_distances.append(inter_distance)\n",
    "\n",
    "        intra_distance = np.mean([np.linalg.norm(data[labels == unique_label] - data[labels == unique_label].mean(axis=0)) for unique_label in unique_labels])\n",
    "        intra_cluster_distances.append(intra_distance)\n",
    "\n",
    "    dunn_index_value = min(inter_cluster_distances) / max(intra_cluster_distances)\n",
    "    return dunn_index_value"
   ]
  },
  {
   "cell_type": "code",
   "execution_count": 5,
   "id": "a12285f0",
   "metadata": {},
   "outputs": [],
   "source": [
    "#podrias generar una metrica en que se calcule el valor maximo de distancia (entre las menores distancias de cada punto con otro dentro del mismo cluster) dividido por el valor minimo de distancia entre cualquier punto de un cluster con otro punto de otro cluster\n",
    "import numpy as np\n",
    "from sklearn.metrics import pairwise_distances\n",
    "\n",
    "def custom_metric(X, labels):\n",
    "    X = np.array(X)\n",
    "    distances = pairwise_distances(X)\n",
    "    n = len(X)\n",
    "    \n",
    "    # Numerador: máximo de las mínimas distancias dentro del mismo cluster\n",
    "    max_min_intra = -np.inf\n",
    "    for i in range(n):\n",
    "        same_cluster = (labels == labels[i])\n",
    "        same_cluster[i] = False  # Exclude itself\n",
    "        if np.any(same_cluster):\n",
    "            min_dist = np.min(distances[i][same_cluster])\n",
    "            max_min_intra = max(max_min_intra, min_dist)\n",
    "    \n",
    "    # Denominador: mínima distancia entre puntos de distintos clusters\n",
    "    min_inter = np.inf\n",
    "    for i in range(n):\n",
    "        other_cluster = (labels != labels[i])\n",
    "        if np.any(other_cluster):\n",
    "            min_dist = np.min(distances[i][other_cluster])\n",
    "            min_inter = min(min_inter, min_dist)\n",
    "\n",
    "    M = max_min_intra / min_inter if min_inter != 0 else np.inf\n",
    "    return 1 /( 1 + M)\n"
   ]
  },
  {
   "cell_type": "code",
   "execution_count": 6,
   "id": "565506a0",
   "metadata": {},
   "outputs": [
    {
     "data": {
      "application/vnd.microsoft.datawrangler.viewer.v0+json": {
       "columns": [
        {
         "name": "index",
         "rawType": "object",
         "type": "string"
        },
        {
         "name": "Silhouette",
         "rawType": "object",
         "type": "unknown"
        },
        {
         "name": "Calinski-Harabasz",
         "rawType": "object",
         "type": "unknown"
        },
        {
         "name": "Davies-Bouldin",
         "rawType": "object",
         "type": "unknown"
        },
        {
         "name": "Dunn",
         "rawType": "object",
         "type": "unknown"
        },
        {
         "name": "Custom Metric",
         "rawType": "object",
         "type": "unknown"
        },
        {
         "name": "dbcv",
         "rawType": "object",
         "type": "unknown"
        }
       ],
       "ref": "1958e7a0-b594-4f8c-a947-a6c3c914a086",
       "rows": [
        [
         "KMeans",
         "0.5595823478987215",
         "497.00487620805814",
         "0.549557597464291",
         "0.4190056225823421",
         "0.05838768137048172",
         "0.8562256331859691"
        ],
        [
         "DBSCAN",
         null,
         null,
         null,
         null,
         null,
         null
        ],
        [
         "AgglomerativeClustering",
         "0.5644796401732071",
         "552.851711505718",
         "0.5357343073560251",
         "0.30934231197326534",
         "0.11120671067309619",
         "0.8589216495468186"
        ]
       ],
       "shape": {
        "columns": 6,
        "rows": 3
       }
      },
      "text/html": [
       "<div>\n",
       "<style scoped>\n",
       "    .dataframe tbody tr th:only-of-type {\n",
       "        vertical-align: middle;\n",
       "    }\n",
       "\n",
       "    .dataframe tbody tr th {\n",
       "        vertical-align: top;\n",
       "    }\n",
       "\n",
       "    .dataframe thead th {\n",
       "        text-align: right;\n",
       "    }\n",
       "</style>\n",
       "<table border=\"1\" class=\"dataframe\">\n",
       "  <thead>\n",
       "    <tr style=\"text-align: right;\">\n",
       "      <th></th>\n",
       "      <th>Silhouette</th>\n",
       "      <th>Calinski-Harabasz</th>\n",
       "      <th>Davies-Bouldin</th>\n",
       "      <th>Dunn</th>\n",
       "      <th>Custom Metric</th>\n",
       "      <th>dbcv</th>\n",
       "    </tr>\n",
       "  </thead>\n",
       "  <tbody>\n",
       "    <tr>\n",
       "      <th>KMeans</th>\n",
       "      <td>0.559582</td>\n",
       "      <td>497.004876</td>\n",
       "      <td>0.549558</td>\n",
       "      <td>0.419006</td>\n",
       "      <td>0.058388</td>\n",
       "      <td>0.856226</td>\n",
       "    </tr>\n",
       "    <tr>\n",
       "      <th>DBSCAN</th>\n",
       "      <td>None</td>\n",
       "      <td>None</td>\n",
       "      <td>None</td>\n",
       "      <td>None</td>\n",
       "      <td>None</td>\n",
       "      <td>None</td>\n",
       "    </tr>\n",
       "    <tr>\n",
       "      <th>AgglomerativeClustering</th>\n",
       "      <td>0.56448</td>\n",
       "      <td>552.851712</td>\n",
       "      <td>0.535734</td>\n",
       "      <td>0.309342</td>\n",
       "      <td>0.111207</td>\n",
       "      <td>0.858922</td>\n",
       "    </tr>\n",
       "  </tbody>\n",
       "</table>\n",
       "</div>"
      ],
      "text/plain": [
       "                        Silhouette Calinski-Harabasz Davies-Bouldin      Dunn  \\\n",
       "KMeans                    0.559582        497.004876       0.549558  0.419006   \n",
       "DBSCAN                        None              None           None      None   \n",
       "AgglomerativeClustering    0.56448        552.851712       0.535734  0.309342   \n",
       "\n",
       "                        Custom Metric      dbcv  \n",
       "KMeans                       0.058388  0.856226  \n",
       "DBSCAN                           None      None  \n",
       "AgglomerativeClustering      0.111207  0.858922  "
      ]
     },
     "execution_count": 6,
     "metadata": {},
     "output_type": "execute_result"
    }
   ],
   "source": [
    "from sklearn.metrics import silhouette_score, calinski_harabasz_score, davies_bouldin_score\n",
    "from permetrics import ClusteringMetric\n",
    "def evaluate_clustering(data, labels):\n",
    "    if len(set(labels)) < 2:\n",
    "        return {\n",
    "            'Silhouette Score': None,\n",
    "            'Calinski-Harabasz Score': None,\n",
    "            'Davies-Bouldin Score': None,\n",
    "            'Dunn Index': None,\n",
    "            'custom_metric': None,\n",
    "            'dbcv': None\n",
    "        }\n",
    "    \n",
    "    silhouette = silhouette_score(data, labels)\n",
    "    calinski_harabasz = calinski_harabasz_score(data, labels)\n",
    "    davies_bouldin = davies_bouldin_score(data, labels)\n",
    "    dunn = dunn_index(data.values, labels)\n",
    "    custom = custom_metric(data.values, labels)\n",
    "    dbcv = ClusteringMetric(X=data.values, y_pred=labels).DBCVI()\n",
    "\n",
    "    return {\n",
    "        'Silhouette Score': silhouette,\n",
    "        'Calinski-Harabasz Score': calinski_harabasz,\n",
    "        'Davies-Bouldin Score': davies_bouldin,\n",
    "        'Dunn Index': dunn,\n",
    "        'custom_metric': custom,\n",
    "        'dbcv': dbcv\n",
    "    }\n",
    "evaluation_results = {}\n",
    "for name, labels in results.items():\n",
    "    evaluation_results[name] = evaluate_clustering(wine, labels)\n",
    "evaluation_df = pd.DataFrame(evaluation_results).T\n",
    "evaluation_df = evaluation_df.rename(columns={\n",
    "    'Silhouette Score': 'Silhouette',\n",
    "    'Calinski-Harabasz Score': 'Calinski-Harabasz',\n",
    "    'Davies-Bouldin Score': 'Davies-Bouldin',\n",
    "    'Dunn Index': 'Dunn',\n",
    "    'custom_metric': 'Custom Metric'\n",
    "})\n",
    "evaluation_df"
   ]
  },
  {
   "cell_type": "code",
   "execution_count": 7,
   "id": "83246bda",
   "metadata": {},
   "outputs": [
    {
     "name": "stderr",
     "output_type": "stream",
     "text": [
      "/tmp/ipykernel_279918/2114172724.py:17: FutureWarning: Downcasting object dtype arrays on .fillna, .ffill, .bfill is deprecated and will change in a future version. Call result.infer_objects(copy=False) instead. To opt-in to the future behavior, set `pd.set_option('future.no_silent_downcasting', True)`\n",
      "  evaluation_df_filled = evaluation_df.fillna(0)\n"
     ]
    },
    {
     "data": {
      "application/vnd.microsoft.datawrangler.viewer.v0+json": {
       "columns": [
        {
         "name": "index",
         "rawType": "object",
         "type": "string"
        },
        {
         "name": "Silhouette",
         "rawType": "float64",
         "type": "float"
        },
        {
         "name": "Calinski-Harabasz",
         "rawType": "float64",
         "type": "float"
        },
        {
         "name": "Davies-Bouldin",
         "rawType": "float64",
         "type": "float"
        },
        {
         "name": "Dunn",
         "rawType": "float64",
         "type": "float"
        },
        {
         "name": "Custom Metric",
         "rawType": "float64",
         "type": "float"
        },
        {
         "name": "dbcv",
         "rawType": "float64",
         "type": "float"
        },
        {
         "name": "Weighted Score",
         "rawType": "float64",
         "type": "float"
        }
       ],
       "ref": "1661981a-76ea-4f6b-8fd1-1a2ff4e68375",
       "rows": [
        [
         "AgglomerativeClustering",
         "0.5644796401732071",
         "552.851711505718",
         "0.5357343073560251",
         "0.30934231197326534",
         "0.11120671067309619",
         "0.8589216495468186",
         "0.36023749855279835"
        ],
        [
         "KMeans",
         "0.5595823478987215",
         "497.00487620805814",
         "0.549557597464291",
         "0.4190056225823421",
         "0.05838768137048172",
         "0.8562256331859691",
         "0.3535789293821625"
        ],
        [
         "DBSCAN",
         "0.0",
         "0.0",
         "0.0",
         "0.0",
         "0.0",
         "0.0",
         "0.0"
        ]
       ],
       "shape": {
        "columns": 7,
        "rows": 3
       }
      },
      "text/html": [
       "<div>\n",
       "<style scoped>\n",
       "    .dataframe tbody tr th:only-of-type {\n",
       "        vertical-align: middle;\n",
       "    }\n",
       "\n",
       "    .dataframe tbody tr th {\n",
       "        vertical-align: top;\n",
       "    }\n",
       "\n",
       "    .dataframe thead th {\n",
       "        text-align: right;\n",
       "    }\n",
       "</style>\n",
       "<table border=\"1\" class=\"dataframe\">\n",
       "  <thead>\n",
       "    <tr style=\"text-align: right;\">\n",
       "      <th></th>\n",
       "      <th>Silhouette</th>\n",
       "      <th>Calinski-Harabasz</th>\n",
       "      <th>Davies-Bouldin</th>\n",
       "      <th>Dunn</th>\n",
       "      <th>Custom Metric</th>\n",
       "      <th>dbcv</th>\n",
       "      <th>Weighted Score</th>\n",
       "    </tr>\n",
       "  </thead>\n",
       "  <tbody>\n",
       "    <tr>\n",
       "      <th>AgglomerativeClustering</th>\n",
       "      <td>0.564480</td>\n",
       "      <td>552.851712</td>\n",
       "      <td>0.535734</td>\n",
       "      <td>0.309342</td>\n",
       "      <td>0.111207</td>\n",
       "      <td>0.858922</td>\n",
       "      <td>0.360237</td>\n",
       "    </tr>\n",
       "    <tr>\n",
       "      <th>KMeans</th>\n",
       "      <td>0.559582</td>\n",
       "      <td>497.004876</td>\n",
       "      <td>0.549558</td>\n",
       "      <td>0.419006</td>\n",
       "      <td>0.058388</td>\n",
       "      <td>0.856226</td>\n",
       "      <td>0.353579</td>\n",
       "    </tr>\n",
       "    <tr>\n",
       "      <th>DBSCAN</th>\n",
       "      <td>0.000000</td>\n",
       "      <td>0.000000</td>\n",
       "      <td>0.000000</td>\n",
       "      <td>0.000000</td>\n",
       "      <td>0.000000</td>\n",
       "      <td>0.000000</td>\n",
       "      <td>0.000000</td>\n",
       "    </tr>\n",
       "  </tbody>\n",
       "</table>\n",
       "</div>"
      ],
      "text/plain": [
       "                         Silhouette  Calinski-Harabasz  Davies-Bouldin  \\\n",
       "AgglomerativeClustering    0.564480         552.851712        0.535734   \n",
       "KMeans                     0.559582         497.004876        0.549558   \n",
       "DBSCAN                     0.000000           0.000000        0.000000   \n",
       "\n",
       "                             Dunn  Custom Metric      dbcv  Weighted Score  \n",
       "AgglomerativeClustering  0.309342       0.111207  0.858922        0.360237  \n",
       "KMeans                   0.419006       0.058388  0.856226        0.353579  \n",
       "DBSCAN                   0.000000       0.000000  0.000000        0.000000  "
      ]
     },
     "execution_count": 7,
     "metadata": {},
     "output_type": "execute_result"
    }
   ],
   "source": [
    "#elige los mejores 3 resultados ponderando el orden de cada métrica\n",
    "def weighted_score(row):\n",
    "    weights = {\n",
    "        'Silhouette': 0.2,\n",
    "        'Calinski-Harabasz': -0.2,\n",
    "        'Davies-Bouldin': 0.2,  # Negativo porque queremos minimizar\n",
    "        'Dunn': 0.2,\n",
    "        'Custom Metric': 0.5 # Puedes ajustar este peso según su importancia\n",
    "    }\n",
    "    score = (row['Silhouette'] * weights['Silhouette'] +\n",
    "                1/(1+row['Calinski-Harabasz']) * weights['Calinski-Harabasz'] +\n",
    "                1/(1+row['Davies-Bouldin']) * weights['Davies-Bouldin'] +\n",
    "                row['Dunn'] * weights['Dunn'] +\n",
    "                row['Custom Metric'] * weights['Custom Metric'])\n",
    "    return score\n",
    "# Replace None values with 0 for scoring\n",
    "evaluation_df_filled = evaluation_df.fillna(0)\n",
    "evaluation_df_filled['Weighted Score'] = evaluation_df_filled.apply(weighted_score, axis=1)\n",
    "top_3_algorithms = evaluation_df_filled.nlargest(3, 'Weighted Score')\n",
    "top_3_algorithms"
   ]
  },
  {
   "cell_type": "markdown",
   "id": "cd272c38",
   "metadata": {},
   "source": [
    "# Interpretar"
   ]
  },
  {
   "cell_type": "code",
   "execution_count": 8,
   "id": "047e86b2",
   "metadata": {},
   "outputs": [],
   "source": [
    "import sys\n",
    "sys.path.append('../..')\n",
    "from ripper import MultiClassRipperClassifier\n",
    "from dsgd import DSClassifierMultiQ\n",
    "from sklearn.tree import DecisionTreeClassifier\n",
    "from sklearn.model_selection import train_test_split\n",
    "from sklearn.metrics import accuracy_score\n",
    "from sklearn import tree as sk_tree"
   ]
  },
  {
   "cell_type": "code",
   "execution_count": 9,
   "id": "024f7c39",
   "metadata": {},
   "outputs": [
    {
     "name": "stdout",
     "output_type": "stream",
     "text": [
      "Processing AgglomerativeClustering with 3 clusters\n",
      "Ripper Accuracy for AgglomerativeClustering: 0.97\n",
      "Decision Tree Accuracy for AgglomerativeClustering: 1.00\n",
      "Optimization started\n",
      "\n",
      "Training time: 6.06s, epochs: 200\n",
      "\n",
      "Least training loss reached: 0.030\n",
      "DSGD Accuracy for AgglomerativeClustering: 0.81\n",
      "--------------------------------------------------------------------------------\n",
      "Processing KMeans with 3 clusters\n",
      "Ripper Accuracy for KMeans: 0.86\n",
      "Decision Tree Accuracy for KMeans: 1.00\n",
      "Optimization started\n",
      "\n",
      "Training time: 5.93s, epochs: 200\n",
      "\n",
      "Least training loss reached: 0.038\n",
      "DSGD Accuracy for KMeans: 0.75\n",
      "--------------------------------------------------------------------------------\n",
      "Processing DBSCAN with 1 clusters\n",
      "Ripper Accuracy for DBSCAN: 1.00\n",
      "Decision Tree Accuracy for DBSCAN: 1.00\n",
      "Optimization started\n"
     ]
    },
    {
     "name": "stderr",
     "output_type": "stream",
     "text": [
      "preprocess.py.py: ._get_pos_class: RuntimeWarning: \n",
      "No negative samples. All target labels=1.\n",
      "\n",
      "ripper.py: .fit: RuntimeWarning: \n",
      "No negative samples. Existing target labels=[1].\n",
      "\n",
      "ripper.py: .fit | base.py: ._check_allpos_allneg: RuntimeWarning: \n",
      "Ruleset is empty. All predictions it makes with method .predict will be negative. It may be untrained or was trained on a dataset split lacking positive examples.\n",
      "\n"
     ]
    },
    {
     "ename": "RuntimeError",
     "evalue": "Class values must be non-negative.",
     "output_type": "error",
     "traceback": [
      "\u001b[31m---------------------------------------------------------------------------\u001b[39m",
      "\u001b[31mRuntimeError\u001b[39m                              Traceback (most recent call last)",
      "\u001b[36mCell\u001b[39m\u001b[36m \u001b[39m\u001b[32mIn[9]\u001b[39m\u001b[32m, line 27\u001b[39m\n\u001b[32m     25\u001b[39m ds = DSClassifierMultiQ(n, min_iter=\u001b[32m20\u001b[39m, max_iter=\u001b[32m200\u001b[39m, debug_mode=\u001b[38;5;28;01mTrue\u001b[39;00m, lossfn=\u001b[33m\"\u001b[39m\u001b[33mMSE\u001b[39m\u001b[33m\"\u001b[39m, num_workers=\u001b[32m0\u001b[39m, min_dloss=\u001b[32m1e-7\u001b[39m)\n\u001b[32m     26\u001b[39m X = X_train.to_numpy()\n\u001b[32m---> \u001b[39m\u001b[32m27\u001b[39m losses, epoch, dt = \u001b[43mds\u001b[49m\u001b[43m.\u001b[49m\u001b[43mfit\u001b[49m\u001b[43m(\u001b[49m\u001b[43mX\u001b[49m\u001b[43m,\u001b[49m\u001b[43m \u001b[49m\u001b[43my_train\u001b[49m\u001b[43m,\u001b[49m\u001b[43m \u001b[49m\u001b[43madd_single_rules\u001b[49m\u001b[43m=\u001b[49m\u001b[38;5;28;43;01mTrue\u001b[39;49;00m\u001b[43m,\u001b[49m\u001b[43m \u001b[49m\u001b[43msingle_rules_breaks\u001b[49m\u001b[43m=\u001b[49m\u001b[32;43m3\u001b[39;49m\u001b[43m,\u001b[49m\u001b[43m \u001b[49m\u001b[43madd_mult_rules\u001b[49m\u001b[43m=\u001b[49m\u001b[38;5;28;43;01mFalse\u001b[39;49;00m\u001b[43m,\u001b[49m\u001b[43m \u001b[49m\u001b[43mcolumn_names\u001b[49m\u001b[43m=\u001b[49m\u001b[43mX_train\u001b[49m\u001b[43m.\u001b[49m\u001b[43mcolumns\u001b[49m\u001b[43m)\u001b[49m\n\u001b[32m     28\u001b[39m x_test = X_test.to_numpy()\n\u001b[32m     29\u001b[39m y_pred_ds = ds.predict(x_test)\n",
      "\u001b[36mFile \u001b[39m\u001b[32m~/Documents/GitHub/Trabajo-dirigido-clustering/.venv/lib/python3.12/site-packages/dsgd/DSClassifierMultiQ.py:100\u001b[39m, in \u001b[36mDSClassifierMultiQ.fit\u001b[39m\u001b[34m(self, X, y, add_single_rules, single_rules_breaks, add_mult_rules, column_names, **kwargs)\u001b[39m\n\u001b[32m     98\u001b[39m     \u001b[38;5;28;01mreturn\u001b[39;00m \u001b[38;5;28mself\u001b[39m._optimize_debug_step(X, y, optimizer, criterion, **kwargs)\n\u001b[32m     99\u001b[39m \u001b[38;5;28;01melif\u001b[39;00m \u001b[38;5;28mself\u001b[39m.debug_mode:\n\u001b[32m--> \u001b[39m\u001b[32m100\u001b[39m     \u001b[38;5;28;01mreturn\u001b[39;00m \u001b[38;5;28;43mself\u001b[39;49m\u001b[43m.\u001b[49m\u001b[43m_optimize_debug\u001b[49m\u001b[43m(\u001b[49m\u001b[43mX\u001b[49m\u001b[43m,\u001b[49m\u001b[43m \u001b[49m\u001b[43my\u001b[49m\u001b[43m,\u001b[49m\u001b[43m \u001b[49m\u001b[43moptimizer\u001b[49m\u001b[43m,\u001b[49m\u001b[43m \u001b[49m\u001b[43mcriterion\u001b[49m\u001b[43m,\u001b[49m\u001b[43m \u001b[49m\u001b[43m*\u001b[49m\u001b[43m*\u001b[49m\u001b[43mkwargs\u001b[49m\u001b[43m)\u001b[49m\n\u001b[32m    101\u001b[39m \u001b[38;5;28;01melse\u001b[39;00m:\n\u001b[32m    102\u001b[39m     \u001b[38;5;28;01mreturn\u001b[39;00m \u001b[38;5;28mself\u001b[39m._optimize(X, y, optimizer, criterion, )\n",
      "\u001b[36mFile \u001b[39m\u001b[32m~/Documents/GitHub/Trabajo-dirigido-clustering/.venv/lib/python3.12/site-packages/dsgd/DSClassifierMultiQ.py:166\u001b[39m, in \u001b[36mDSClassifierMultiQ._optimize_debug\u001b[39m\u001b[34m(self, X, y, optimizer, criterion, print_init_model, print_final_model, print_time, print_partial_time, print_every_epochs, print_least_loss, return_partial_dt, disable_all_print, print_epoch_progress)\u001b[39m\n\u001b[32m    164\u001b[39m     yt = Variable(torch.LongTensor(y).to(\u001b[38;5;28mself\u001b[39m.device))\n\u001b[32m    165\u001b[39m \u001b[38;5;28;01melse\u001b[39;00m:\n\u001b[32m--> \u001b[39m\u001b[32m166\u001b[39m     yt = \u001b[43mtorch\u001b[49m\u001b[43m.\u001b[49m\u001b[43mnn\u001b[49m\u001b[43m.\u001b[49m\u001b[43mfunctional\u001b[49m\u001b[43m.\u001b[49m\u001b[43mone_hot\u001b[49m\u001b[43m(\u001b[49m\u001b[43mtorch\u001b[49m\u001b[43m.\u001b[49m\u001b[43mLongTensor\u001b[49m\u001b[43m(\u001b[49m\u001b[43my\u001b[49m\u001b[43m)\u001b[49m\u001b[43m.\u001b[49m\u001b[43mto\u001b[49m\u001b[43m(\u001b[49m\u001b[38;5;28;43mself\u001b[39;49m\u001b[43m.\u001b[49m\u001b[43mdevice\u001b[49m\u001b[43m)\u001b[49m\u001b[43m,\u001b[49m\u001b[43m \u001b[49m\u001b[38;5;28;43mself\u001b[39;49m\u001b[43m.\u001b[49m\u001b[43mk\u001b[49m\u001b[43m)\u001b[49m.float()\n\u001b[32m    168\u001b[39m dataset = torch.utils.data.TensorDataset(Xt, yt)\n\u001b[32m    169\u001b[39m N = \u001b[38;5;28mlen\u001b[39m(dataset)\n",
      "\u001b[31mRuntimeError\u001b[39m: Class values must be non-negative."
     ]
    }
   ],
   "source": [
    "# interpretamos solo los mejores 3 resultados y guardamos los modelos\n",
    "saved_models = {}\n",
    "top_3_labels = {name: results[name] for name in top_3_algorithms.index}\n",
    "top_3_data = wine.copy()\n",
    "for name, labels in top_3_labels.items():\n",
    "    n = len(np.unique(labels))\n",
    "    X_train, X_test, y_train, y_test = train_test_split(top_3_data, labels, test_size=0.2, random_state=42)\n",
    "    print(f'Processing {name} with {n} clusters')\n",
    "    \n",
    "    # Ripper\n",
    "    ripper = MultiClassRipperClassifier(random_state=43)\n",
    "    ripper.fit(X_train, y_train)\n",
    "    y_pred_ripper = ripper.predict(X_test)\n",
    "    print(f'Ripper Accuracy for {name}: {accuracy_score(y_test, y_pred_ripper):.2f}')\n",
    "    saved_models.setdefault(name, {})['ripper'] = ripper\n",
    "    \n",
    "    # Decision Tree\n",
    "    dtree = DecisionTreeClassifier(random_state=42, max_depth=5)\n",
    "    dtree.fit(X_train, y_train)\n",
    "    dtree_pred = dtree.predict(X_test)\n",
    "    print(f'Decision Tree Accuracy for {name}: {accuracy_score(y_test, dtree_pred):.2f}')\n",
    "    saved_models[name]['dtree'] = dtree\n",
    "    \n",
    "    # DSGD\n",
    "    ds = DSClassifierMultiQ(n, min_iter=20, max_iter=200, debug_mode=True, lossfn=\"MSE\", num_workers=0, min_dloss=1e-7)\n",
    "    X = X_train.to_numpy()\n",
    "    losses, epoch, dt = ds.fit(X, y_train, add_single_rules=True, single_rules_breaks=3, add_mult_rules=False, column_names=X_train.columns)\n",
    "    x_test = X_test.to_numpy()\n",
    "    y_pred_ds = ds.predict(x_test)\n",
    "    print(f'DSGD Accuracy for {name}: {accuracy_score(y_test, y_pred_ds):.2f}')\n",
    "    saved_models[name]['ds'] = ds\n",
    "    \n",
    "    print('--' * 40)\n"
   ]
  }
 ],
 "metadata": {
  "kernelspec": {
   "display_name": ".venv",
   "language": "python",
   "name": "python3"
  },
  "language_info": {
   "codemirror_mode": {
    "name": "ipython",
    "version": 3
   },
   "file_extension": ".py",
   "mimetype": "text/x-python",
   "name": "python",
   "nbconvert_exporter": "python",
   "pygments_lexer": "ipython3",
   "version": "3.12.3"
  }
 },
 "nbformat": 4,
 "nbformat_minor": 5
}
