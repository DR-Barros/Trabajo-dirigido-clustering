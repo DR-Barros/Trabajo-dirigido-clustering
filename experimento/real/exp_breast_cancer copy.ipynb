{
 "cells": [
  {
   "cell_type": "markdown",
   "id": "1f2e4806",
   "metadata": {},
   "source": [
    "# Leer datasets"
   ]
  },
  {
   "cell_type": "code",
   "execution_count": 1,
   "id": "cdf05312",
   "metadata": {},
   "outputs": [
    {
     "name": "stdout",
     "output_type": "stream",
     "text": [
      "(683, 9)\n",
      "Index(['clump_thickness', 'size_uniformity', 'shape_uniformity',\n",
      "       'marginal_adhesion', 'epithelial_size', 'bare_nucleoli',\n",
      "       'bland_chromatin', 'normal_nucleoli', 'mitoses'],\n",
      "      dtype='object')\n",
      "clump_thickness        int64\n",
      "size_uniformity        int64\n",
      "shape_uniformity       int64\n",
      "marginal_adhesion      int64\n",
      "epithelial_size        int64\n",
      "bare_nucleoli        float64\n",
      "bland_chromatin        int64\n",
      "normal_nucleoli        int64\n",
      "mitoses                int64\n",
      "dtype: object\n"
     ]
    },
    {
     "data": {
      "application/vnd.microsoft.datawrangler.viewer.v0+json": {
       "columns": [
        {
         "name": "index",
         "rawType": "int64",
         "type": "integer"
        },
        {
         "name": "clump_thickness",
         "rawType": "int64",
         "type": "integer"
        },
        {
         "name": "size_uniformity",
         "rawType": "int64",
         "type": "integer"
        },
        {
         "name": "shape_uniformity",
         "rawType": "int64",
         "type": "integer"
        },
        {
         "name": "marginal_adhesion",
         "rawType": "int64",
         "type": "integer"
        },
        {
         "name": "epithelial_size",
         "rawType": "int64",
         "type": "integer"
        },
        {
         "name": "bare_nucleoli",
         "rawType": "float64",
         "type": "float"
        },
        {
         "name": "bland_chromatin",
         "rawType": "int64",
         "type": "integer"
        },
        {
         "name": "normal_nucleoli",
         "rawType": "int64",
         "type": "integer"
        },
        {
         "name": "mitoses",
         "rawType": "int64",
         "type": "integer"
        }
       ],
       "ref": "9eea5c5b-31e6-4521-9153-7f4ca1968dca",
       "rows": [
        [
         "0",
         "5",
         "1",
         "1",
         "1",
         "2",
         "1.0",
         "3",
         "1",
         "1"
        ],
        [
         "1",
         "5",
         "4",
         "4",
         "5",
         "7",
         "10.0",
         "3",
         "2",
         "1"
        ],
        [
         "2",
         "3",
         "1",
         "1",
         "1",
         "2",
         "2.0",
         "3",
         "1",
         "1"
        ],
        [
         "3",
         "6",
         "8",
         "8",
         "1",
         "3",
         "4.0",
         "3",
         "7",
         "1"
        ],
        [
         "4",
         "4",
         "1",
         "1",
         "3",
         "2",
         "1.0",
         "3",
         "1",
         "1"
        ]
       ],
       "shape": {
        "columns": 9,
        "rows": 5
       }
      },
      "text/html": [
       "<div>\n",
       "<style scoped>\n",
       "    .dataframe tbody tr th:only-of-type {\n",
       "        vertical-align: middle;\n",
       "    }\n",
       "\n",
       "    .dataframe tbody tr th {\n",
       "        vertical-align: top;\n",
       "    }\n",
       "\n",
       "    .dataframe thead th {\n",
       "        text-align: right;\n",
       "    }\n",
       "</style>\n",
       "<table border=\"1\" class=\"dataframe\">\n",
       "  <thead>\n",
       "    <tr style=\"text-align: right;\">\n",
       "      <th></th>\n",
       "      <th>clump_thickness</th>\n",
       "      <th>size_uniformity</th>\n",
       "      <th>shape_uniformity</th>\n",
       "      <th>marginal_adhesion</th>\n",
       "      <th>epithelial_size</th>\n",
       "      <th>bare_nucleoli</th>\n",
       "      <th>bland_chromatin</th>\n",
       "      <th>normal_nucleoli</th>\n",
       "      <th>mitoses</th>\n",
       "    </tr>\n",
       "  </thead>\n",
       "  <tbody>\n",
       "    <tr>\n",
       "      <th>0</th>\n",
       "      <td>5</td>\n",
       "      <td>1</td>\n",
       "      <td>1</td>\n",
       "      <td>1</td>\n",
       "      <td>2</td>\n",
       "      <td>1.0</td>\n",
       "      <td>3</td>\n",
       "      <td>1</td>\n",
       "      <td>1</td>\n",
       "    </tr>\n",
       "    <tr>\n",
       "      <th>1</th>\n",
       "      <td>5</td>\n",
       "      <td>4</td>\n",
       "      <td>4</td>\n",
       "      <td>5</td>\n",
       "      <td>7</td>\n",
       "      <td>10.0</td>\n",
       "      <td>3</td>\n",
       "      <td>2</td>\n",
       "      <td>1</td>\n",
       "    </tr>\n",
       "    <tr>\n",
       "      <th>2</th>\n",
       "      <td>3</td>\n",
       "      <td>1</td>\n",
       "      <td>1</td>\n",
       "      <td>1</td>\n",
       "      <td>2</td>\n",
       "      <td>2.0</td>\n",
       "      <td>3</td>\n",
       "      <td>1</td>\n",
       "      <td>1</td>\n",
       "    </tr>\n",
       "    <tr>\n",
       "      <th>3</th>\n",
       "      <td>6</td>\n",
       "      <td>8</td>\n",
       "      <td>8</td>\n",
       "      <td>1</td>\n",
       "      <td>3</td>\n",
       "      <td>4.0</td>\n",
       "      <td>3</td>\n",
       "      <td>7</td>\n",
       "      <td>1</td>\n",
       "    </tr>\n",
       "    <tr>\n",
       "      <th>4</th>\n",
       "      <td>4</td>\n",
       "      <td>1</td>\n",
       "      <td>1</td>\n",
       "      <td>3</td>\n",
       "      <td>2</td>\n",
       "      <td>1.0</td>\n",
       "      <td>3</td>\n",
       "      <td>1</td>\n",
       "      <td>1</td>\n",
       "    </tr>\n",
       "  </tbody>\n",
       "</table>\n",
       "</div>"
      ],
      "text/plain": [
       "   clump_thickness  size_uniformity  shape_uniformity  marginal_adhesion  \\\n",
       "0                5                1                 1                  1   \n",
       "1                5                4                 4                  5   \n",
       "2                3                1                 1                  1   \n",
       "3                6                8                 8                  1   \n",
       "4                4                1                 1                  3   \n",
       "\n",
       "   epithelial_size  bare_nucleoli  bland_chromatin  normal_nucleoli  mitoses  \n",
       "0                2            1.0                3                1        1  \n",
       "1                7           10.0                3                2        1  \n",
       "2                2            2.0                3                1        1  \n",
       "3                3            4.0                3                7        1  \n",
       "4                2            1.0                3                1        1  "
      ]
     },
     "execution_count": 1,
     "metadata": {},
     "output_type": "execute_result"
    }
   ],
   "source": [
    "import pandas as pd\n",
    "import numpy as np\n",
    "\n",
    "breast_cancer = pd.read_csv('../../data/real/breast-cancer-wisconsin.csv')\n",
    "# drop the 'id' column\n",
    "breast_cancer = breast_cancer.drop(columns=['id', 'class'])\n",
    "breast_cancer[\"bare_nucleoli\"] = pd.to_numeric(breast_cancer[\"bare_nucleoli\"], errors='coerce')\n",
    "# drop rows with NaN values\n",
    "breast_cancer = breast_cancer.dropna()\n",
    "print(breast_cancer.shape)\n",
    "print(breast_cancer.columns)\n",
    "print(breast_cancer.dtypes)\n",
    "breast_cancer.head()"
   ]
  },
  {
   "cell_type": "markdown",
   "id": "7143905b",
   "metadata": {},
   "source": [
    "# Realizamos los clusters"
   ]
  },
  {
   "cell_type": "code",
   "execution_count": 2,
   "id": "f6a5e3a8",
   "metadata": {},
   "outputs": [
    {
     "data": {
      "image/png": "[encoded data removed]",
      "text/plain": [
       "<Figure size 1500x2000 with 3 Axes>"
      ]
     },
     "metadata": {},
     "output_type": "display_data"
    }
   ],
   "source": [
    "from sklearn.cluster import KMeans, DBSCAN, AgglomerativeClustering, MeanShift, SpectralClustering, AffinityPropagation, Birch, OPTICS, BisectingKMeans\n",
    "from sklearn.mixture import GaussianMixture\n",
    "n_clusters = 3\n",
    "clustering_algorithms = {\n",
    "    'KMeans': KMeans(n_clusters=n_clusters, random_state=42),\n",
    "    'DBSCAN': DBSCAN(eps=0.5, min_samples=3),\n",
    "    'AgglomerativeClustering': AgglomerativeClustering(n_clusters=n_clusters),\n",
    "}\n",
    "results = {}\n",
    "for name, algorithm in clustering_algorithms.items():\n",
    "    try:\n",
    "        algorithm.fit(breast_cancer)\n",
    "        if hasattr(algorithm, 'labels_'):\n",
    "            labels = algorithm.labels_\n",
    "        elif hasattr(algorithm, 'predict'):\n",
    "            labels = algorithm.predict(breast_cancer)\n",
    "        else:\n",
    "            labels = algorithm.means_.argmax(axis=0)  # For GaussianMixture\n",
    "        results[name] = labels\n",
    "    except Exception as e:\n",
    "        print(f\"Error with {name}: {e}\")\n",
    "import matplotlib.pyplot as plt\n",
    "from sklearn.decomposition import PCA\n",
    "pca = PCA(n_components=2)\n",
    "breast_cancer_pca = pca.fit_transform(breast_cancer)\n",
    "plt.figure(figsize=(15, 20))\n",
    "for i, (name, labels) in enumerate(results.items(), 1):\n",
    "    plt.subplot(4, 3, i)\n",
    "    plt.scatter(breast_cancer_pca[:, 0], breast_cancer_pca[:, 1], c=labels, cmap='viridis', s=10)\n",
    "    plt.title(name)"
   ]
  },
  {
   "cell_type": "code",
   "execution_count": 8,
   "id": "e58d6f76",
   "metadata": {},
   "outputs": [
    {
     "name": "stdout",
     "output_type": "stream",
     "text": [
      "(array([-1,  0,  1,  2,  3,  4,  5,  6,  7,  8,  9, 10, 11, 12, 13, 14, 15]), array([481,   7,   7,   8,  10,   9,  20,  23,  10,   9,  21,  10,  12,\n",
      "        10,  27,  10,   9]))\n",
      "(array([-1,  0,  1,  2,  3,  4,  5,  6,  7,  8,  9, 10, 11, 12, 13, 14, 15]), array([481,   7,   7,   8,  10,   9,  20,  23,  10,   9,  21,  10,  12,\n",
      "        10,  27,  10,   9]))\n",
      "(array([-1,  0,  1,  2,  3,  4,  5,  6,  7,  8,  9, 10, 11, 12, 13, 14, 15]), array([481,   7,   7,   8,  10,   9,  20,  23,  10,   9,  21,  10,  12,\n",
      "        10,  27,  10,   9]))\n",
      "(array([-1,  0,  1,  2,  3,  4,  5,  6,  7,  8,  9, 10, 11, 12, 13, 14, 15]), array([481,   7,   7,   8,  10,   9,  20,  23,  10,   9,  21,  10,  12,\n",
      "        10,  27,  10,   9]))\n",
      "(array([-1,  0,  1,  2,  3,  4,  5,  6,  7,  8,  9, 10, 11, 12, 13, 14, 15]), array([481,   7,   7,   8,  10,   9,  20,  23,  10,   9,  21,  10,  12,\n",
      "        10,  27,  10,   9]))\n",
      "(array([-1,  0,  1,  2,  3,  4,  5,  6,  7,  8,  9, 10, 11, 12, 13, 14, 15]), array([481,   7,   7,   8,  10,   9,  20,  23,  10,   9,  21,  10,  12,\n",
      "        10,  27,  10,   9]))\n",
      "(array([-1,  0,  1,  2,  3,  4,  5,  6,  7,  8,  9, 10, 11, 12, 13, 14, 15]), array([481,   7,   7,   8,  10,   9,  20,  23,  10,   9,  21,  10,  12,\n",
      "        10,  27,  10,   9]))\n",
      "(array([-1,  0,  1,  2,  3,  4,  5,  6,  7,  8,  9, 10, 11, 12, 13, 14, 15]), array([481,   7,   7,   8,  10,   9,  20,  23,  10,   9,  21,  10,  12,\n",
      "        10,  27,  10,   9]))\n",
      "(array([-1,  0,  1,  2,  3,  4,  5,  6,  7,  8,  9, 10, 11, 12, 13, 14, 15]), array([481,   7,   7,   8,  10,   9,  20,  23,  10,   9,  21,  10,  12,\n",
      "        10,  27,  10,   9]))\n",
      "(array([-1,  0,  1,  2,  3,  4,  5,  6,  7,  8,  9, 10, 11, 12, 13, 14, 15]), array([481,   7,   7,   8,  10,   9,  20,  23,  10,   9,  21,  10,  12,\n",
      "        10,  27,  10,   9]))\n",
      "(array([-1,  0,  1,  2,  3,  4,  5,  6,  7,  8,  9, 10, 11, 12, 13, 14, 15]), array([481,   7,   7,   8,  10,   9,  20,  23,  10,   9,  21,  10,  12,\n",
      "        10,  27,  10,   9]))\n",
      "(array([-1,  0,  1,  2,  3,  4,  5,  6,  7,  8,  9, 10, 11, 12, 13, 14, 15]), array([481,   7,   7,   8,  10,   9,  20,  23,  10,   9,  21,  10,  12,\n",
      "        10,  27,  10,   9]))\n",
      "(array([-1,  0,  1,  2,  3,  4,  5,  6,  7,  8,  9, 10, 11, 12, 13, 14, 15]), array([481,   7,   7,   8,  10,   9,  20,  23,  10,   9,  21,  10,  12,\n",
      "        10,  27,  10,   9]))\n",
      "(array([-1,  0,  1,  2,  3,  4,  5,  6,  7,  8,  9, 10, 11, 12, 13, 14, 15]), array([481,   7,   7,   8,  10,   9,  20,  23,  10,   9,  21,  10,  12,\n",
      "        10,  27,  10,   9]))\n",
      "(array([-1,  0,  1,  2,  3,  4,  5,  6,  7,  8,  9, 10, 11, 12, 13, 14, 15]), array([481,   7,   7,   8,  10,   9,  20,  23,  10,   9,  21,  10,  12,\n",
      "        10,  27,  10,   9]))\n",
      "(array([-1,  0,  1,  2,  3,  4,  5,  6,  7,  8,  9, 10, 11, 12, 13, 14, 15]), array([481,   7,   7,   8,  10,   9,  20,  23,  10,   9,  21,  10,  12,\n",
      "        10,  27,  10,   9]))\n",
      "(array([-1,  0,  1,  2,  3,  4,  5,  6,  7,  8,  9, 10, 11, 12, 13, 14, 15]), array([481,   7,   7,   8,  10,   9,  20,  23,  10,   9,  21,  10,  12,\n",
      "        10,  27,  10,   9]))\n",
      "(array([-1,  0,  1,  2,  3,  4,  5,  6,  7,  8,  9, 10, 11, 12, 13, 14, 15]), array([481,   7,   7,   8,  10,   9,  20,  23,  10,   9,  21,  10,  12,\n",
      "        10,  27,  10,   9]))\n"
     ]
    }
   ],
   "source": [
    "for eps in [0.1, 0.2, 0.3, 0.4, 0.5, 0.6, 0.7, 0.8, 0.9]:\n",
    "    for min_samples in [3, 4, 5, 6]:\n",
    "        for metric in ['euclidean', 'manhattan']:\n",
    "            #printeamos numero de labels\n",
    "            c= DBSCAN(eps=eps, min_samples=min_samples, metric=metric)\n",
    "            c.fit(breast_cancer)\n",
    "            if len(np.unique(c.labels_))>1 and len(np.unique(c.labels_)) < 18:\n",
    "                print(np.unique(c.labels_, return_counts=True))"
   ]
  },
  {
   "cell_type": "code",
   "execution_count": 7,
   "id": "71e7c9eb",
   "metadata": {},
   "outputs": [],
   "source": [
    "#definimos dunn index\n",
    "def dunn_index(data, labels):\n",
    "    unique_labels = np.unique(labels)\n",
    "    if len(unique_labels) < 2:\n",
    "        return 0.0\n",
    "\n",
    "    inter_cluster_distances = []\n",
    "    intra_cluster_distances = []\n",
    "\n",
    "    for i in range(len(unique_labels)):\n",
    "        for j in range(i + 1, len(unique_labels)):\n",
    "            cluster_i = data[labels == unique_labels[i]]\n",
    "            cluster_j = data[labels == unique_labels[j]]\n",
    "            inter_distance = np.linalg.norm(cluster_i.mean(axis=0) - cluster_j.mean(axis=0))\n",
    "            inter_cluster_distances.append(inter_distance)\n",
    "\n",
    "        intra_distance = np.mean([np.linalg.norm(data[labels == unique_label] - data[labels == unique_label].mean(axis=0)) for unique_label in unique_labels])\n",
    "        intra_cluster_distances.append(intra_distance)\n",
    "\n",
    "    dunn_index_value = min(inter_cluster_distances) / max(intra_cluster_distances)\n",
    "    return dunn_index_value"
   ]
  },
  {
   "cell_type": "code",
   "execution_count": 8,
   "id": "a12285f0",
   "metadata": {},
   "outputs": [],
   "source": [
    "#podrias generar una metrica en que se calcule el valor maximo de distancia (entre las menores distancias de cada punto con otro dentro del mismo cluster) dividido por el valor minimo de distancia entre cualquier punto de un cluster con otro punto de otro cluster\n",
    "import numpy as np\n",
    "from sklearn.metrics import pairwise_distances\n",
    "\n",
    "def custom_metric(X, labels):\n",
    "    X = np.array(X)\n",
    "    distances = pairwise_distances(X)\n",
    "    n = len(X)\n",
    "    \n",
    "    # Numerador: máximo de las mínimas distancias dentro del mismo cluster\n",
    "    max_min_intra = -np.inf\n",
    "    for i in range(n):\n",
    "        same_cluster = (labels == labels[i])\n",
    "        same_cluster[i] = False  # Exclude itself\n",
    "        if np.any(same_cluster):\n",
    "            min_dist = np.min(distances[i][same_cluster])\n",
    "            max_min_intra = max(max_min_intra, min_dist)\n",
    "    \n",
    "    # Denominador: mínima distancia entre puntos de distintos clusters\n",
    "    min_inter = np.inf\n",
    "    for i in range(n):\n",
    "        other_cluster = (labels != labels[i])\n",
    "        if np.any(other_cluster):\n",
    "            min_dist = np.min(distances[i][other_cluster])\n",
    "            min_inter = min(min_inter, min_dist)\n",
    "\n",
    "    M = max_min_intra / min_inter if min_inter != 0 else np.inf\n",
    "    return 1 /( 1 + M)\n"
   ]
  },
  {
   "cell_type": "code",
   "execution_count": 9,
   "id": "565506a0",
   "metadata": {},
   "outputs": [
    {
     "name": "stderr",
     "output_type": "stream",
     "text": [
      "/home/dani/Documents/GitHub/Trabajo-dirigido-clustering/.venv/lib/python3.12/site-packages/numpy/_core/fromnumeric.py:3859: RuntimeWarning: Mean of empty slice.\n",
      "  return _methods._mean(a, axis=axis, dtype=dtype,\n",
      "/home/dani/Documents/GitHub/Trabajo-dirigido-clustering/.venv/lib/python3.12/site-packages/numpy/_core/_methods.py:136: RuntimeWarning: invalid value encountered in divide\n",
      "  ret = um.true_divide(\n"
     ]
    },
    {
     "data": {
      "application/vnd.microsoft.datawrangler.viewer.v0+json": {
       "columns": [
        {
         "name": "index",
         "rawType": "object",
         "type": "string"
        },
        {
         "name": "Silhouette",
         "rawType": "float64",
         "type": "float"
        },
        {
         "name": "Calinski-Harabasz",
         "rawType": "float64",
         "type": "float"
        },
        {
         "name": "Davies-Bouldin",
         "rawType": "float64",
         "type": "float"
        },
        {
         "name": "Dunn",
         "rawType": "float64",
         "type": "float"
        },
        {
         "name": "Custom Metric",
         "rawType": "float64",
         "type": "float"
        },
        {
         "name": "dbcv",
         "rawType": "float64",
         "type": "float"
        }
       ],
       "ref": "bc20bfd7-0a8f-4f6f-a5fc-24536149015e",
       "rows": [
        [
         "KMeans",
         "0.5266420971226172",
         "672.5399629247721",
         "1.5394690805919804",
         "0.09994280205489998",
         "0.23582845781094",
         "0.8392320441830675"
        ],
        [
         "DBSCAN",
         "0.16829084637224725",
         "7.780879447273907",
         "1.0493273652170292",
         "0.15213104256390528",
         "0.09837531795074314",
         null
        ],
        [
         "AgglomerativeClustering",
         "0.49397533988794823",
         "620.0110528088732",
         "1.5662232208615106",
         "0.10298267836692235",
         "0.2240092377397959",
         "0.8781834557108367"
        ]
       ],
       "shape": {
        "columns": 6,
        "rows": 3
       }
      },
      "text/html": [
       "<div>\n",
       "<style scoped>\n",
       "    .dataframe tbody tr th:only-of-type {\n",
       "        vertical-align: middle;\n",
       "    }\n",
       "\n",
       "    .dataframe tbody tr th {\n",
       "        vertical-align: top;\n",
       "    }\n",
       "\n",
       "    .dataframe thead th {\n",
       "        text-align: right;\n",
       "    }\n",
       "</style>\n",
       "<table border=\"1\" class=\"dataframe\">\n",
       "  <thead>\n",
       "    <tr style=\"text-align: right;\">\n",
       "      <th></th>\n",
       "      <th>Silhouette</th>\n",
       "      <th>Calinski-Harabasz</th>\n",
       "      <th>Davies-Bouldin</th>\n",
       "      <th>Dunn</th>\n",
       "      <th>Custom Metric</th>\n",
       "      <th>dbcv</th>\n",
       "    </tr>\n",
       "  </thead>\n",
       "  <tbody>\n",
       "    <tr>\n",
       "      <th>KMeans</th>\n",
       "      <td>0.526642</td>\n",
       "      <td>672.539963</td>\n",
       "      <td>1.539469</td>\n",
       "      <td>0.099943</td>\n",
       "      <td>0.235828</td>\n",
       "      <td>0.839232</td>\n",
       "    </tr>\n",
       "    <tr>\n",
       "      <th>DBSCAN</th>\n",
       "      <td>0.168291</td>\n",
       "      <td>7.780879</td>\n",
       "      <td>1.049327</td>\n",
       "      <td>0.152131</td>\n",
       "      <td>0.098375</td>\n",
       "      <td>NaN</td>\n",
       "    </tr>\n",
       "    <tr>\n",
       "      <th>AgglomerativeClustering</th>\n",
       "      <td>0.493975</td>\n",
       "      <td>620.011053</td>\n",
       "      <td>1.566223</td>\n",
       "      <td>0.102983</td>\n",
       "      <td>0.224009</td>\n",
       "      <td>0.878183</td>\n",
       "    </tr>\n",
       "  </tbody>\n",
       "</table>\n",
       "</div>"
      ],
      "text/plain": [
       "                         Silhouette  Calinski-Harabasz  Davies-Bouldin  \\\n",
       "KMeans                     0.526642         672.539963        1.539469   \n",
       "DBSCAN                     0.168291           7.780879        1.049327   \n",
       "AgglomerativeClustering    0.493975         620.011053        1.566223   \n",
       "\n",
       "                             Dunn  Custom Metric      dbcv  \n",
       "KMeans                   0.099943       0.235828  0.839232  \n",
       "DBSCAN                   0.152131       0.098375       NaN  \n",
       "AgglomerativeClustering  0.102983       0.224009  0.878183  "
      ]
     },
     "execution_count": 9,
     "metadata": {},
     "output_type": "execute_result"
    }
   ],
   "source": [
    "from sklearn.metrics import silhouette_score, calinski_harabasz_score, davies_bouldin_score\n",
    "from permetrics import ClusteringMetric\n",
    "def evaluate_clustering(data, labels):\n",
    "    if len(set(labels)) < 2:\n",
    "        return {\n",
    "            'Silhouette Score': None,\n",
    "            'Calinski-Harabasz Score': None,\n",
    "            'Davies-Bouldin Score': None,\n",
    "            'Dunn Index': None,\n",
    "            'custom_metric': None,\n",
    "            'dbcv': None\n",
    "        }\n",
    "    \n",
    "    silhouette = silhouette_score(data, labels)\n",
    "    calinski_harabasz = calinski_harabasz_score(data, labels)\n",
    "    davies_bouldin = davies_bouldin_score(data, labels)\n",
    "    dunn = dunn_index(data.values, labels)\n",
    "    custom = custom_metric(data.values, labels)\n",
    "    dbcv = ClusteringMetric(X=data.values, y_pred=labels).DBCVI()\n",
    "\n",
    "    return {\n",
    "        'Silhouette Score': silhouette,\n",
    "        'Calinski-Harabasz Score': calinski_harabasz,\n",
    "        'Davies-Bouldin Score': davies_bouldin,\n",
    "        'Dunn Index': dunn,\n",
    "        'custom_metric': custom,\n",
    "        'dbcv': dbcv\n",
    "    }\n",
    "evaluation_results = {}\n",
    "for name, labels in results.items():\n",
    "    evaluation_results[name] = evaluate_clustering(breast_cancer, labels)\n",
    "evaluation_df = pd.DataFrame(evaluation_results).T\n",
    "evaluation_df = evaluation_df.rename(columns={\n",
    "    'Silhouette Score': 'Silhouette',\n",
    "    'Calinski-Harabasz Score': 'Calinski-Harabasz',\n",
    "    'Davies-Bouldin Score': 'Davies-Bouldin',\n",
    "    'Dunn Index': 'Dunn',\n",
    "    'custom_metric': 'Custom Metric'\n",
    "})\n",
    "evaluation_df"
   ]
  },
  {
   "cell_type": "code",
   "execution_count": 10,
   "id": "83246bda",
   "metadata": {},
   "outputs": [
    {
     "data": {
      "application/vnd.microsoft.datawrangler.viewer.v0+json": {
       "columns": [
        {
         "name": "index",
         "rawType": "object",
         "type": "string"
        },
        {
         "name": "Silhouette",
         "rawType": "float64",
         "type": "float"
        },
        {
         "name": "Calinski-Harabasz",
         "rawType": "float64",
         "type": "float"
        },
        {
         "name": "Davies-Bouldin",
         "rawType": "float64",
         "type": "float"
        },
        {
         "name": "Dunn",
         "rawType": "float64",
         "type": "float"
        },
        {
         "name": "Custom Metric",
         "rawType": "float64",
         "type": "float"
        },
        {
         "name": "dbcv",
         "rawType": "float64",
         "type": "float"
        },
        {
         "name": "Weighted Score",
         "rawType": "float64",
         "type": "float"
        }
       ],
       "ref": "82979721-1cec-45ba-ad21-40a1ce2ba126",
       "rows": [
        [
         "KMeans",
         "0.5266420971226172",
         "672.5399629247721",
         "1.5394690805919804",
         "0.09994280205489998",
         "0.23582845781094",
         "0.8392320441830675",
         "0.3216908896170357"
        ],
        [
         "AgglomerativeClustering",
         "0.49397533988794823",
         "620.0110528088732",
         "1.5662232208615106",
         "0.10298267836692235",
         "0.2240092377397959",
         "0.8781834557108367",
         "0.30900970999232613"
        ],
        [
         "DBSCAN",
         "0.16829084637224725",
         "7.780879447273907",
         "1.0493273652170292",
         "0.15213104256390528",
         "0.09837531795074314",
         "0.0",
         "0.1880882722030962"
        ]
       ],
       "shape": {
        "columns": 7,
        "rows": 3
       }
      },
      "text/html": [
       "<div>\n",
       "<style scoped>\n",
       "    .dataframe tbody tr th:only-of-type {\n",
       "        vertical-align: middle;\n",
       "    }\n",
       "\n",
       "    .dataframe tbody tr th {\n",
       "        vertical-align: top;\n",
       "    }\n",
       "\n",
       "    .dataframe thead th {\n",
       "        text-align: right;\n",
       "    }\n",
       "</style>\n",
       "<table border=\"1\" class=\"dataframe\">\n",
       "  <thead>\n",
       "    <tr style=\"text-align: right;\">\n",
       "      <th></th>\n",
       "      <th>Silhouette</th>\n",
       "      <th>Calinski-Harabasz</th>\n",
       "      <th>Davies-Bouldin</th>\n",
       "      <th>Dunn</th>\n",
       "      <th>Custom Metric</th>\n",
       "      <th>dbcv</th>\n",
       "      <th>Weighted Score</th>\n",
       "    </tr>\n",
       "  </thead>\n",
       "  <tbody>\n",
       "    <tr>\n",
       "      <th>KMeans</th>\n",
       "      <td>0.526642</td>\n",
       "      <td>672.539963</td>\n",
       "      <td>1.539469</td>\n",
       "      <td>0.099943</td>\n",
       "      <td>0.235828</td>\n",
       "      <td>0.839232</td>\n",
       "      <td>0.321691</td>\n",
       "    </tr>\n",
       "    <tr>\n",
       "      <th>AgglomerativeClustering</th>\n",
       "      <td>0.493975</td>\n",
       "      <td>620.011053</td>\n",
       "      <td>1.566223</td>\n",
       "      <td>0.102983</td>\n",
       "      <td>0.224009</td>\n",
       "      <td>0.878183</td>\n",
       "      <td>0.309010</td>\n",
       "    </tr>\n",
       "    <tr>\n",
       "      <th>DBSCAN</th>\n",
       "      <td>0.168291</td>\n",
       "      <td>7.780879</td>\n",
       "      <td>1.049327</td>\n",
       "      <td>0.152131</td>\n",
       "      <td>0.098375</td>\n",
       "      <td>0.000000</td>\n",
       "      <td>0.188088</td>\n",
       "    </tr>\n",
       "  </tbody>\n",
       "</table>\n",
       "</div>"
      ],
      "text/plain": [
       "                         Silhouette  Calinski-Harabasz  Davies-Bouldin  \\\n",
       "KMeans                     0.526642         672.539963        1.539469   \n",
       "AgglomerativeClustering    0.493975         620.011053        1.566223   \n",
       "DBSCAN                     0.168291           7.780879        1.049327   \n",
       "\n",
       "                             Dunn  Custom Metric      dbcv  Weighted Score  \n",
       "KMeans                   0.099943       0.235828  0.839232        0.321691  \n",
       "AgglomerativeClustering  0.102983       0.224009  0.878183        0.309010  \n",
       "DBSCAN                   0.152131       0.098375  0.000000        0.188088  "
      ]
     },
     "execution_count": 10,
     "metadata": {},
     "output_type": "execute_result"
    }
   ],
   "source": [
    "#elige los mejores 3 resultados ponderando el orden de cada métrica\n",
    "def weighted_score(row):\n",
    "    weights = {\n",
    "        'Silhouette': 0.2,\n",
    "        'Calinski-Harabasz': -0.2,\n",
    "        'Davies-Bouldin': 0.2,  # Negativo porque queremos minimizar\n",
    "        'Dunn': 0.2,\n",
    "        'Custom Metric': 0.5 # Puedes ajustar este peso según su importancia\n",
    "    }\n",
    "    score = (row['Silhouette'] * weights['Silhouette'] +\n",
    "                1/(1+row['Calinski-Harabasz']) * weights['Calinski-Harabasz'] +\n",
    "                1/(1+row['Davies-Bouldin']) * weights['Davies-Bouldin'] +\n",
    "                row['Dunn'] * weights['Dunn'] +\n",
    "                row['Custom Metric'] * weights['Custom Metric'])\n",
    "    return score\n",
    "# Replace None values with 0 for scoring\n",
    "evaluation_df_filled = evaluation_df.fillna(0)\n",
    "evaluation_df_filled['Weighted Score'] = evaluation_df_filled.apply(weighted_score, axis=1)\n",
    "top_3_algorithms = evaluation_df_filled.nlargest(3, 'Weighted Score')\n",
    "top_3_algorithms"
   ]
  },
  {
   "cell_type": "markdown",
   "id": "cd272c38",
   "metadata": {},
   "source": [
    "# Interpretar"
   ]
  },
  {
   "cell_type": "code",
   "execution_count": 11,
   "id": "047e86b2",
   "metadata": {},
   "outputs": [],
   "source": [
    "import sys\n",
    "sys.path.append('../..')\n",
    "from ripper import MultiClassRipperClassifier\n",
    "from dsgd import DSClassifierMultiQ\n",
    "from sklearn.tree import DecisionTreeClassifier\n",
    "from sklearn.model_selection import train_test_split\n",
    "from sklearn.metrics import accuracy_score\n",
    "from sklearn import tree as sk_tree"
   ]
  },
  {
   "cell_type": "code",
   "execution_count": 12,
   "id": "024f7c39",
   "metadata": {},
   "outputs": [
    {
     "name": "stdout",
     "output_type": "stream",
     "text": [
      "Processing KMeans with 3 clusters\n",
      "Ripper Accuracy for KMeans: 0.91\n",
      "Decision Tree Accuracy for KMeans: 0.88\n",
      "Optimization started\n",
      "\n",
      "Training time: 21.16s, epochs: 200\n",
      "\n",
      "Least training loss reached: 0.023\n",
      "DSGD Accuracy for KMeans: 0.92\n",
      "--------------------------------------------------------------------------------\n",
      "Processing AgglomerativeClustering with 3 clusters\n",
      "Ripper Accuracy for AgglomerativeClustering: 0.86\n",
      "Decision Tree Accuracy for AgglomerativeClustering: 0.89\n",
      "Optimization started\n",
      "\n",
      "Training time: 21.06s, epochs: 200\n",
      "\n",
      "Least training loss reached: 0.028\n",
      "DSGD Accuracy for AgglomerativeClustering: 0.94\n",
      "--------------------------------------------------------------------------------\n",
      "Processing DBSCAN with 29 clusters\n"
     ]
    },
    {
     "name": "stderr",
     "output_type": "stream",
     "text": [
      "ripper.py: .fit | base.py: ._check_allpos_allneg: RuntimeWarning: \n",
      "Ruleset is empty. All predictions it makes with method .predict will be negative. It may be untrained or was trained on a dataset split lacking positive examples.\n",
      "\n"
     ]
    },
    {
     "name": "stdout",
     "output_type": "stream",
     "text": [
      "Ripper Accuracy for DBSCAN: 0.93\n",
      "Decision Tree Accuracy for DBSCAN: 0.75\n",
      "Optimization started\n"
     ]
    },
    {
     "ename": "RuntimeError",
     "evalue": "Class values must be non-negative.",
     "output_type": "error",
     "traceback": [
      "\u001b[31m---------------------------------------------------------------------------\u001b[39m",
      "\u001b[31mRuntimeError\u001b[39m                              Traceback (most recent call last)",
      "\u001b[36mCell\u001b[39m\u001b[36m \u001b[39m\u001b[32mIn[12]\u001b[39m\u001b[32m, line 27\u001b[39m\n\u001b[32m     25\u001b[39m ds = DSClassifierMultiQ(n, min_iter=\u001b[32m20\u001b[39m, max_iter=\u001b[32m200\u001b[39m, debug_mode=\u001b[38;5;28;01mTrue\u001b[39;00m, lossfn=\u001b[33m\"\u001b[39m\u001b[33mMSE\u001b[39m\u001b[33m\"\u001b[39m, num_workers=\u001b[32m0\u001b[39m, min_dloss=\u001b[32m1e-7\u001b[39m)\n\u001b[32m     26\u001b[39m X = X_train.to_numpy()\n\u001b[32m---> \u001b[39m\u001b[32m27\u001b[39m losses, epoch, dt = \u001b[43mds\u001b[49m\u001b[43m.\u001b[49m\u001b[43mfit\u001b[49m\u001b[43m(\u001b[49m\u001b[43mX\u001b[49m\u001b[43m,\u001b[49m\u001b[43m \u001b[49m\u001b[43my_train\u001b[49m\u001b[43m,\u001b[49m\u001b[43m \u001b[49m\u001b[43madd_single_rules\u001b[49m\u001b[43m=\u001b[49m\u001b[38;5;28;43;01mTrue\u001b[39;49;00m\u001b[43m,\u001b[49m\u001b[43m \u001b[49m\u001b[43msingle_rules_breaks\u001b[49m\u001b[43m=\u001b[49m\u001b[32;43m3\u001b[39;49m\u001b[43m,\u001b[49m\u001b[43m \u001b[49m\u001b[43madd_mult_rules\u001b[49m\u001b[43m=\u001b[49m\u001b[38;5;28;43;01mFalse\u001b[39;49;00m\u001b[43m,\u001b[49m\u001b[43m \u001b[49m\u001b[43mcolumn_names\u001b[49m\u001b[43m=\u001b[49m\u001b[43mX_train\u001b[49m\u001b[43m.\u001b[49m\u001b[43mcolumns\u001b[49m\u001b[43m)\u001b[49m\n\u001b[32m     28\u001b[39m x_test = X_test.to_numpy()\n\u001b[32m     29\u001b[39m y_pred_ds = ds.predict(x_test)\n",
      "\u001b[36mFile \u001b[39m\u001b[32m~/Documents/GitHub/Trabajo-dirigido-clustering/.venv/lib/python3.12/site-packages/dsgd/DSClassifierMultiQ.py:100\u001b[39m, in \u001b[36mDSClassifierMultiQ.fit\u001b[39m\u001b[34m(self, X, y, add_single_rules, single_rules_breaks, add_mult_rules, column_names, **kwargs)\u001b[39m\n\u001b[32m     98\u001b[39m     \u001b[38;5;28;01mreturn\u001b[39;00m \u001b[38;5;28mself\u001b[39m._optimize_debug_step(X, y, optimizer, criterion, **kwargs)\n\u001b[32m     99\u001b[39m \u001b[38;5;28;01melif\u001b[39;00m \u001b[38;5;28mself\u001b[39m.debug_mode:\n\u001b[32m--> \u001b[39m\u001b[32m100\u001b[39m     \u001b[38;5;28;01mreturn\u001b[39;00m \u001b[38;5;28;43mself\u001b[39;49m\u001b[43m.\u001b[49m\u001b[43m_optimize_debug\u001b[49m\u001b[43m(\u001b[49m\u001b[43mX\u001b[49m\u001b[43m,\u001b[49m\u001b[43m \u001b[49m\u001b[43my\u001b[49m\u001b[43m,\u001b[49m\u001b[43m \u001b[49m\u001b[43moptimizer\u001b[49m\u001b[43m,\u001b[49m\u001b[43m \u001b[49m\u001b[43mcriterion\u001b[49m\u001b[43m,\u001b[49m\u001b[43m \u001b[49m\u001b[43m*\u001b[49m\u001b[43m*\u001b[49m\u001b[43mkwargs\u001b[49m\u001b[43m)\u001b[49m\n\u001b[32m    101\u001b[39m \u001b[38;5;28;01melse\u001b[39;00m:\n\u001b[32m    102\u001b[39m     \u001b[38;5;28;01mreturn\u001b[39;00m \u001b[38;5;28mself\u001b[39m._optimize(X, y, optimizer, criterion, )\n",
      "\u001b[36mFile \u001b[39m\u001b[32m~/Documents/GitHub/Trabajo-dirigido-clustering/.venv/lib/python3.12/site-packages/dsgd/DSClassifierMultiQ.py:166\u001b[39m, in \u001b[36mDSClassifierMultiQ._optimize_debug\u001b[39m\u001b[34m(self, X, y, optimizer, criterion, print_init_model, print_final_model, print_time, print_partial_time, print_every_epochs, print_least_loss, return_partial_dt, disable_all_print, print_epoch_progress)\u001b[39m\n\u001b[32m    164\u001b[39m     yt = Variable(torch.LongTensor(y).to(\u001b[38;5;28mself\u001b[39m.device))\n\u001b[32m    165\u001b[39m \u001b[38;5;28;01melse\u001b[39;00m:\n\u001b[32m--> \u001b[39m\u001b[32m166\u001b[39m     yt = \u001b[43mtorch\u001b[49m\u001b[43m.\u001b[49m\u001b[43mnn\u001b[49m\u001b[43m.\u001b[49m\u001b[43mfunctional\u001b[49m\u001b[43m.\u001b[49m\u001b[43mone_hot\u001b[49m\u001b[43m(\u001b[49m\u001b[43mtorch\u001b[49m\u001b[43m.\u001b[49m\u001b[43mLongTensor\u001b[49m\u001b[43m(\u001b[49m\u001b[43my\u001b[49m\u001b[43m)\u001b[49m\u001b[43m.\u001b[49m\u001b[43mto\u001b[49m\u001b[43m(\u001b[49m\u001b[38;5;28;43mself\u001b[39;49m\u001b[43m.\u001b[49m\u001b[43mdevice\u001b[49m\u001b[43m)\u001b[49m\u001b[43m,\u001b[49m\u001b[43m \u001b[49m\u001b[38;5;28;43mself\u001b[39;49m\u001b[43m.\u001b[49m\u001b[43mk\u001b[49m\u001b[43m)\u001b[49m.float()\n\u001b[32m    168\u001b[39m dataset = torch.utils.data.TensorDataset(Xt, yt)\n\u001b[32m    169\u001b[39m N = \u001b[38;5;28mlen\u001b[39m(dataset)\n",
      "\u001b[31mRuntimeError\u001b[39m: Class values must be non-negative."
     ]
    }
   ],
   "source": [
    "# interpretamos solo los mejores 3 resultados y guardamos los modelos\n",
    "saved_models = {}\n",
    "top_3_labels = {name: results[name] for name in top_3_algorithms.index}\n",
    "top_3_data = breast_cancer.copy()\n",
    "for name, labels in top_3_labels.items():\n",
    "    n = len(np.unique(labels))\n",
    "    X_train, X_test, y_train, y_test = train_test_split(top_3_data, labels, test_size=0.2, random_state=42)\n",
    "    print(f'Processing {name} with {n} clusters')\n",
    "    \n",
    "    # Ripper\n",
    "    ripper = MultiClassRipperClassifier(random_state=43)\n",
    "    ripper.fit(X_train, y_train)\n",
    "    y_pred_ripper = ripper.predict(X_test)\n",
    "    print(f'Ripper Accuracy for {name}: {accuracy_score(y_test, y_pred_ripper):.2f}')\n",
    "    saved_models.setdefault(name, {})['ripper'] = ripper\n",
    "    \n",
    "    # Decision Tree\n",
    "    dtree = DecisionTreeClassifier(random_state=42, max_depth=5)\n",
    "    dtree.fit(X_train, y_train)\n",
    "    dtree_pred = dtree.predict(X_test)\n",
    "    print(f'Decision Tree Accuracy for {name}: {accuracy_score(y_test, dtree_pred):.2f}')\n",
    "    saved_models[name]['dtree'] = dtree\n",
    "    \n",
    "    # DSGD\n",
    "    ds = DSClassifierMultiQ(n, min_iter=20, max_iter=200, debug_mode=True, lossfn=\"MSE\", num_workers=0, min_dloss=1e-7)\n",
    "    X = X_train.to_numpy()\n",
    "    losses, epoch, dt = ds.fit(X, y_train, add_single_rules=True, single_rules_breaks=3, add_mult_rules=False, column_names=X_train.columns)\n",
    "    x_test = X_test.to_numpy()\n",
    "    y_pred_ds = ds.predict(x_test)\n",
    "    print(f'DSGD Accuracy for {name}: {accuracy_score(y_test, y_pred_ds):.2f}')\n",
    "    saved_models[name]['ds'] = ds\n",
    "    \n",
    "    print('--' * 40)\n"
   ]
  }
 ],
 "metadata": {
  "kernelspec": {
   "display_name": ".venv",
   "language": "python",
   "name": "python3"
  },
  "language_info": {
   "codemirror_mode": {
    "name": "ipython",
    "version": 3
   },
   "file_extension": ".py",
   "mimetype": "text/x-python",
   "name": "python",
   "nbconvert_exporter": "python",
   "pygments_lexer": "ipython3",
   "version": "3.12.3"
  }
 },
 "nbformat": 4,
 "nbformat_minor": 5
}
