{
 "cells": [
  {
   "cell_type": "markdown",
   "id": "1f2e4806",
   "metadata": {},
   "source": [
    "# Leer datasets"
   ]
  },
  {
   "cell_type": "code",
   "execution_count": 3,
   "id": "cdf05312",
   "metadata": {},
   "outputs": [
    {
     "name": "stdout",
     "output_type": "stream",
     "text": [
      "(47621, 100)\n"
     ]
    },
    {
     "data": {
      "application/vnd.microsoft.datawrangler.viewer.v0+json": {
       "columns": [
        {
         "name": "index",
         "rawType": "int64",
         "type": "integer"
        },
        {
         "name": "age",
         "rawType": "int64",
         "type": "integer"
        },
        {
         "name": "fnlwgt",
         "rawType": "int64",
         "type": "integer"
        },
        {
         "name": "education-num",
         "rawType": "int64",
         "type": "integer"
        },
        {
         "name": "capital-gain",
         "rawType": "int64",
         "type": "integer"
        },
        {
         "name": "capital-loss",
         "rawType": "int64",
         "type": "integer"
        },
        {
         "name": "hours-per-week",
         "rawType": "int64",
         "type": "integer"
        },
        {
         "name": "workclass_Federal-gov",
         "rawType": "int64",
         "type": "integer"
        },
        {
         "name": "workclass_Local-gov",
         "rawType": "int64",
         "type": "integer"
        },
        {
         "name": "workclass_Never-worked",
         "rawType": "int64",
         "type": "integer"
        },
        {
         "name": "workclass_Private",
         "rawType": "int64",
         "type": "integer"
        },
        {
         "name": "workclass_Self-emp-inc",
         "rawType": "int64",
         "type": "integer"
        },
        {
         "name": "workclass_Self-emp-not-inc",
         "rawType": "int64",
         "type": "integer"
        },
        {
         "name": "workclass_State-gov",
         "rawType": "int64",
         "type": "integer"
        },
        {
         "name": "workclass_Without-pay",
         "rawType": "int64",
         "type": "integer"
        },
        {
         "name": "education_11th",
         "rawType": "int64",
         "type": "integer"
        },
        {
         "name": "education_12th",
         "rawType": "int64",
         "type": "integer"
        },
        {
         "name": "education_1st-4th",
         "rawType": "int64",
         "type": "integer"
        },
        {
         "name": "education_5th-6th",
         "rawType": "int64",
         "type": "integer"
        },
        {
         "name": "education_7th-8th",
         "rawType": "int64",
         "type": "integer"
        },
        {
         "name": "education_9th",
         "rawType": "int64",
         "type": "integer"
        },
        {
         "name": "education_Assoc-acdm",
         "rawType": "int64",
         "type": "integer"
        },
        {
         "name": "education_Assoc-voc",
         "rawType": "int64",
         "type": "integer"
        },
        {
         "name": "education_Bachelors",
         "rawType": "int64",
         "type": "integer"
        },
        {
         "name": "education_Doctorate",
         "rawType": "int64",
         "type": "integer"
        },
        {
         "name": "education_HS-grad",
         "rawType": "int64",
         "type": "integer"
        },
        {
         "name": "education_Masters",
         "rawType": "int64",
         "type": "integer"
        },
        {
         "name": "education_Preschool",
         "rawType": "int64",
         "type": "integer"
        },
        {
         "name": "education_Prof-school",
         "rawType": "int64",
         "type": "integer"
        },
        {
         "name": "education_Some-college",
         "rawType": "int64",
         "type": "integer"
        },
        {
         "name": "marital-status_Married-AF-spouse",
         "rawType": "int64",
         "type": "integer"
        },
        {
         "name": "marital-status_Married-civ-spouse",
         "rawType": "int64",
         "type": "integer"
        },
        {
         "name": "marital-status_Married-spouse-absent",
         "rawType": "int64",
         "type": "integer"
        },
        {
         "name": "marital-status_Never-married",
         "rawType": "int64",
         "type": "integer"
        },
        {
         "name": "marital-status_Separated",
         "rawType": "int64",
         "type": "integer"
        },
        {
         "name": "marital-status_Widowed",
         "rawType": "int64",
         "type": "integer"
        },
        {
         "name": "occupation_Adm-clerical",
         "rawType": "int64",
         "type": "integer"
        },
        {
         "name": "occupation_Armed-Forces",
         "rawType": "int64",
         "type": "integer"
        },
        {
         "name": "occupation_Craft-repair",
         "rawType": "int64",
         "type": "integer"
        },
        {
         "name": "occupation_Exec-managerial",
         "rawType": "int64",
         "type": "integer"
        },
        {
         "name": "occupation_Farming-fishing",
         "rawType": "int64",
         "type": "integer"
        },
        {
         "name": "occupation_Handlers-cleaners",
         "rawType": "int64",
         "type": "integer"
        },
        {
         "name": "occupation_Machine-op-inspct",
         "rawType": "int64",
         "type": "integer"
        },
        {
         "name": "occupation_Other-service",
         "rawType": "int64",
         "type": "integer"
        },
        {
         "name": "occupation_Priv-house-serv",
         "rawType": "int64",
         "type": "integer"
        },
        {
         "name": "occupation_Prof-specialty",
         "rawType": "int64",
         "type": "integer"
        },
        {
         "name": "occupation_Protective-serv",
         "rawType": "int64",
         "type": "integer"
        },
        {
         "name": "occupation_Sales",
         "rawType": "int64",
         "type": "integer"
        },
        {
         "name": "occupation_Tech-support",
         "rawType": "int64",
         "type": "integer"
        },
        {
         "name": "occupation_Transport-moving",
         "rawType": "int64",
         "type": "integer"
        },
        {
         "name": "relationship_Not-in-family",
         "rawType": "int64",
         "type": "integer"
        },
        {
         "name": "relationship_Other-relative",
         "rawType": "int64",
         "type": "integer"
        },
        {
         "name": "relationship_Own-child",
         "rawType": "int64",
         "type": "integer"
        },
        {
         "name": "relationship_Unmarried",
         "rawType": "int64",
         "type": "integer"
        },
        {
         "name": "relationship_Wife",
         "rawType": "int64",
         "type": "integer"
        },
        {
         "name": "race_Asian-Pac-Islander",
         "rawType": "int64",
         "type": "integer"
        },
        {
         "name": "race_Black",
         "rawType": "int64",
         "type": "integer"
        },
        {
         "name": "race_Other",
         "rawType": "int64",
         "type": "integer"
        },
        {
         "name": "race_White",
         "rawType": "int64",
         "type": "integer"
        },
        {
         "name": "sex_Male",
         "rawType": "int64",
         "type": "integer"
        },
        {
         "name": "native-country_Cambodia",
         "rawType": "int64",
         "type": "integer"
        },
        {
         "name": "native-country_Canada",
         "rawType": "int64",
         "type": "integer"
        },
        {
         "name": "native-country_China",
         "rawType": "int64",
         "type": "integer"
        },
        {
         "name": "native-country_Columbia",
         "rawType": "int64",
         "type": "integer"
        },
        {
         "name": "native-country_Cuba",
         "rawType": "int64",
         "type": "integer"
        },
        {
         "name": "native-country_Dominican-Republic",
         "rawType": "int64",
         "type": "integer"
        },
        {
         "name": "native-country_Ecuador",
         "rawType": "int64",
         "type": "integer"
        },
        {
         "name": "native-country_El-Salvador",
         "rawType": "int64",
         "type": "integer"
        },
        {
         "name": "native-country_England",
         "rawType": "int64",
         "type": "integer"
        },
        {
         "name": "native-country_France",
         "rawType": "int64",
         "type": "integer"
        },
        {
         "name": "native-country_Germany",
         "rawType": "int64",
         "type": "integer"
        },
        {
         "name": "native-country_Greece",
         "rawType": "int64",
         "type": "integer"
        },
        {
         "name": "native-country_Guatemala",
         "rawType": "int64",
         "type": "integer"
        },
        {
         "name": "native-country_Haiti",
         "rawType": "int64",
         "type": "integer"
        },
        {
         "name": "native-country_Holand-Netherlands",
         "rawType": "int64",
         "type": "integer"
        },
        {
         "name": "native-country_Honduras",
         "rawType": "int64",
         "type": "integer"
        },
        {
         "name": "native-country_Hong",
         "rawType": "int64",
         "type": "integer"
        },
        {
         "name": "native-country_Hungary",
         "rawType": "int64",
         "type": "integer"
        },
        {
         "name": "native-country_India",
         "rawType": "int64",
         "type": "integer"
        },
        {
         "name": "native-country_Iran",
         "rawType": "int64",
         "type": "integer"
        },
        {
         "name": "native-country_Ireland",
         "rawType": "int64",
         "type": "integer"
        },
        {
         "name": "native-country_Italy",
         "rawType": "int64",
         "type": "integer"
        },
        {
         "name": "native-country_Jamaica",
         "rawType": "int64",
         "type": "integer"
        },
        {
         "name": "native-country_Japan",
         "rawType": "int64",
         "type": "integer"
        },
        {
         "name": "native-country_Laos",
         "rawType": "int64",
         "type": "integer"
        },
        {
         "name": "native-country_Mexico",
         "rawType": "int64",
         "type": "integer"
        },
        {
         "name": "native-country_Nicaragua",
         "rawType": "int64",
         "type": "integer"
        },
        {
         "name": "native-country_Outlying-US(Guam-USVI-etc)",
         "rawType": "int64",
         "type": "integer"
        },
        {
         "name": "native-country_Peru",
         "rawType": "int64",
         "type": "integer"
        },
        {
         "name": "native-country_Philippines",
         "rawType": "int64",
         "type": "integer"
        },
        {
         "name": "native-country_Poland",
         "rawType": "int64",
         "type": "integer"
        },
        {
         "name": "native-country_Portugal",
         "rawType": "int64",
         "type": "integer"
        },
        {
         "name": "native-country_Puerto-Rico",
         "rawType": "int64",
         "type": "integer"
        },
        {
         "name": "native-country_Scotland",
         "rawType": "int64",
         "type": "integer"
        },
        {
         "name": "native-country_South",
         "rawType": "int64",
         "type": "integer"
        },
        {
         "name": "native-country_Taiwan",
         "rawType": "int64",
         "type": "integer"
        },
        {
         "name": "native-country_Thailand",
         "rawType": "int64",
         "type": "integer"
        },
        {
         "name": "native-country_Trinadad&Tobago",
         "rawType": "int64",
         "type": "integer"
        },
        {
         "name": "native-country_United-States",
         "rawType": "int64",
         "type": "integer"
        },
        {
         "name": "native-country_Vietnam",
         "rawType": "int64",
         "type": "integer"
        },
        {
         "name": "native-country_Yugoslavia",
         "rawType": "int64",
         "type": "integer"
        }
       ],
       "ref": "0b3593f5-4102-4a1c-910d-bf594d8b945c",
       "rows": [
        [
         "1536",
         "34",
         "122116",
         "10",
         "0",
         "0",
         "40",
         "0",
         "0",
         "0",
         "1",
         "0",
         "0",
         "0",
         "0",
         "0",
         "0",
         "0",
         "0",
         "0",
         "0",
         "0",
         "0",
         "0",
         "0",
         "0",
         "0",
         "0",
         "0",
         "1",
         "0",
         "1",
         "0",
         "0",
         "0",
         "0",
         "0",
         "0",
         "0",
         "1",
         "0",
         "0",
         "0",
         "0",
         "0",
         "0",
         "0",
         "0",
         "0",
         "0",
         "0",
         "0",
         "0",
         "0",
         "0",
         "0",
         "0",
         "0",
         "1",
         "1",
         "0",
         "0",
         "0",
         "0",
         "0",
         "0",
         "0",
         "0",
         "0",
         "0",
         "0",
         "0",
         "0",
         "0",
         "0",
         "0",
         "0",
         "0",
         "0",
         "0",
         "0",
         "0",
         "0",
         "0",
         "0",
         "0",
         "0",
         "0",
         "0",
         "0",
         "0",
         "0",
         "0",
         "0",
         "0",
         "0",
         "0",
         "0",
         "1",
         "0",
         "0"
        ],
        [
         "20190",
         "36",
         "223020",
         "10",
         "0",
         "0",
         "20",
         "0",
         "0",
         "0",
         "0",
         "0",
         "0",
         "1",
         "0",
         "0",
         "0",
         "0",
         "0",
         "0",
         "0",
         "0",
         "0",
         "0",
         "0",
         "0",
         "0",
         "0",
         "0",
         "1",
         "0",
         "0",
         "0",
         "0",
         "0",
         "0",
         "0",
         "0",
         "0",
         "0",
         "0",
         "0",
         "0",
         "1",
         "0",
         "0",
         "0",
         "0",
         "0",
         "0",
         "0",
         "0",
         "0",
         "1",
         "0",
         "0",
         "1",
         "0",
         "0",
         "0",
         "0",
         "0",
         "0",
         "0",
         "0",
         "0",
         "0",
         "0",
         "0",
         "0",
         "0",
         "0",
         "0",
         "0",
         "0",
         "0",
         "0",
         "0",
         "0",
         "0",
         "0",
         "0",
         "0",
         "0",
         "0",
         "0",
         "0",
         "0",
         "0",
         "0",
         "0",
         "0",
         "0",
         "0",
         "0",
         "0",
         "0",
         "0",
         "1",
         "0",
         "0"
        ],
        [
         "47437",
         "59",
         "165867",
         "13",
         "0",
         "0",
         "25",
         "0",
         "0",
         "0",
         "0",
         "0",
         "1",
         "0",
         "0",
         "0",
         "0",
         "0",
         "0",
         "0",
         "0",
         "0",
         "0",
         "1",
         "0",
         "0",
         "0",
         "0",
         "0",
         "0",
         "0",
         "1",
         "0",
         "0",
         "0",
         "0",
         "0",
         "0",
         "0",
         "1",
         "0",
         "0",
         "0",
         "0",
         "0",
         "0",
         "0",
         "0",
         "0",
         "0",
         "0",
         "0",
         "0",
         "0",
         "0",
         "0",
         "0",
         "0",
         "1",
         "1",
         "0",
         "0",
         "0",
         "0",
         "0",
         "0",
         "0",
         "0",
         "0",
         "0",
         "0",
         "0",
         "0",
         "0",
         "0",
         "0",
         "0",
         "0",
         "0",
         "0",
         "0",
         "0",
         "0",
         "0",
         "0",
         "0",
         "0",
         "0",
         "0",
         "0",
         "0",
         "0",
         "0",
         "0",
         "0",
         "0",
         "0",
         "0",
         "1",
         "0",
         "0"
        ],
        [
         "10192",
         "59",
         "453067",
         "10",
         "0",
         "0",
         "36",
         "0",
         "0",
         "0",
         "1",
         "0",
         "0",
         "0",
         "0",
         "0",
         "0",
         "0",
         "0",
         "0",
         "0",
         "0",
         "0",
         "0",
         "0",
         "0",
         "0",
         "0",
         "0",
         "1",
         "0",
         "1",
         "0",
         "0",
         "0",
         "0",
         "0",
         "0",
         "0",
         "0",
         "0",
         "0",
         "0",
         "0",
         "0",
         "1",
         "0",
         "0",
         "0",
         "0",
         "0",
         "0",
         "0",
         "0",
         "0",
         "0",
         "0",
         "0",
         "1",
         "1",
         "0",
         "0",
         "0",
         "0",
         "0",
         "0",
         "0",
         "0",
         "0",
         "0",
         "0",
         "0",
         "0",
         "0",
         "0",
         "0",
         "0",
         "0",
         "0",
         "0",
         "0",
         "0",
         "0",
         "0",
         "0",
         "0",
         "0",
         "0",
         "0",
         "0",
         "0",
         "0",
         "0",
         "0",
         "0",
         "0",
         "0",
         "0",
         "1",
         "0",
         "0"
        ],
        [
         "38494",
         "36",
         "49657",
         "13",
         "0",
         "0",
         "50",
         "0",
         "0",
         "0",
         "1",
         "0",
         "0",
         "0",
         "0",
         "0",
         "0",
         "0",
         "0",
         "0",
         "0",
         "0",
         "0",
         "1",
         "0",
         "0",
         "0",
         "0",
         "0",
         "0",
         "0",
         "1",
         "0",
         "0",
         "0",
         "0",
         "0",
         "0",
         "0",
         "0",
         "0",
         "0",
         "0",
         "0",
         "0",
         "1",
         "0",
         "0",
         "0",
         "0",
         "0",
         "0",
         "0",
         "0",
         "0",
         "0",
         "0",
         "0",
         "1",
         "1",
         "0",
         "0",
         "0",
         "0",
         "0",
         "0",
         "0",
         "0",
         "0",
         "0",
         "0",
         "0",
         "0",
         "0",
         "0",
         "0",
         "0",
         "0",
         "0",
         "0",
         "0",
         "0",
         "0",
         "0",
         "0",
         "0",
         "0",
         "0",
         "0",
         "0",
         "0",
         "0",
         "0",
         "0",
         "0",
         "0",
         "0",
         "0",
         "1",
         "0",
         "0"
        ]
       ],
       "shape": {
        "columns": 100,
        "rows": 5
       }
      },
      "text/html": [
       "<div>\n",
       "<style scoped>\n",
       "    .dataframe tbody tr th:only-of-type {\n",
       "        vertical-align: middle;\n",
       "    }\n",
       "\n",
       "    .dataframe tbody tr th {\n",
       "        vertical-align: top;\n",
       "    }\n",
       "\n",
       "    .dataframe thead th {\n",
       "        text-align: right;\n",
       "    }\n",
       "</style>\n",
       "<table border=\"1\" class=\"dataframe\">\n",
       "  <thead>\n",
       "    <tr style=\"text-align: right;\">\n",
       "      <th></th>\n",
       "      <th>age</th>\n",
       "      <th>fnlwgt</th>\n",
       "      <th>education-num</th>\n",
       "      <th>capital-gain</th>\n",
       "      <th>capital-loss</th>\n",
       "      <th>hours-per-week</th>\n",
       "      <th>workclass_Federal-gov</th>\n",
       "      <th>workclass_Local-gov</th>\n",
       "      <th>workclass_Never-worked</th>\n",
       "      <th>workclass_Private</th>\n",
       "      <th>...</th>\n",
       "      <th>native-country_Portugal</th>\n",
       "      <th>native-country_Puerto-Rico</th>\n",
       "      <th>native-country_Scotland</th>\n",
       "      <th>native-country_South</th>\n",
       "      <th>native-country_Taiwan</th>\n",
       "      <th>native-country_Thailand</th>\n",
       "      <th>native-country_Trinadad&amp;Tobago</th>\n",
       "      <th>native-country_United-States</th>\n",
       "      <th>native-country_Vietnam</th>\n",
       "      <th>native-country_Yugoslavia</th>\n",
       "    </tr>\n",
       "  </thead>\n",
       "  <tbody>\n",
       "    <tr>\n",
       "      <th>1536</th>\n",
       "      <td>34</td>\n",
       "      <td>122116</td>\n",
       "      <td>10</td>\n",
       "      <td>0</td>\n",
       "      <td>0</td>\n",
       "      <td>40</td>\n",
       "      <td>0</td>\n",
       "      <td>0</td>\n",
       "      <td>0</td>\n",
       "      <td>1</td>\n",
       "      <td>...</td>\n",
       "      <td>0</td>\n",
       "      <td>0</td>\n",
       "      <td>0</td>\n",
       "      <td>0</td>\n",
       "      <td>0</td>\n",
       "      <td>0</td>\n",
       "      <td>0</td>\n",
       "      <td>1</td>\n",
       "      <td>0</td>\n",
       "      <td>0</td>\n",
       "    </tr>\n",
       "    <tr>\n",
       "      <th>20190</th>\n",
       "      <td>36</td>\n",
       "      <td>223020</td>\n",
       "      <td>10</td>\n",
       "      <td>0</td>\n",
       "      <td>0</td>\n",
       "      <td>20</td>\n",
       "      <td>0</td>\n",
       "      <td>0</td>\n",
       "      <td>0</td>\n",
       "      <td>0</td>\n",
       "      <td>...</td>\n",
       "      <td>0</td>\n",
       "      <td>0</td>\n",
       "      <td>0</td>\n",
       "      <td>0</td>\n",
       "      <td>0</td>\n",
       "      <td>0</td>\n",
       "      <td>0</td>\n",
       "      <td>1</td>\n",
       "      <td>0</td>\n",
       "      <td>0</td>\n",
       "    </tr>\n",
       "    <tr>\n",
       "      <th>47437</th>\n",
       "      <td>59</td>\n",
       "      <td>165867</td>\n",
       "      <td>13</td>\n",
       "      <td>0</td>\n",
       "      <td>0</td>\n",
       "      <td>25</td>\n",
       "      <td>0</td>\n",
       "      <td>0</td>\n",
       "      <td>0</td>\n",
       "      <td>0</td>\n",
       "      <td>...</td>\n",
       "      <td>0</td>\n",
       "      <td>0</td>\n",
       "      <td>0</td>\n",
       "      <td>0</td>\n",
       "      <td>0</td>\n",
       "      <td>0</td>\n",
       "      <td>0</td>\n",
       "      <td>1</td>\n",
       "      <td>0</td>\n",
       "      <td>0</td>\n",
       "    </tr>\n",
       "    <tr>\n",
       "      <th>10192</th>\n",
       "      <td>59</td>\n",
       "      <td>453067</td>\n",
       "      <td>10</td>\n",
       "      <td>0</td>\n",
       "      <td>0</td>\n",
       "      <td>36</td>\n",
       "      <td>0</td>\n",
       "      <td>0</td>\n",
       "      <td>0</td>\n",
       "      <td>1</td>\n",
       "      <td>...</td>\n",
       "      <td>0</td>\n",
       "      <td>0</td>\n",
       "      <td>0</td>\n",
       "      <td>0</td>\n",
       "      <td>0</td>\n",
       "      <td>0</td>\n",
       "      <td>0</td>\n",
       "      <td>1</td>\n",
       "      <td>0</td>\n",
       "      <td>0</td>\n",
       "    </tr>\n",
       "    <tr>\n",
       "      <th>38494</th>\n",
       "      <td>36</td>\n",
       "      <td>49657</td>\n",
       "      <td>13</td>\n",
       "      <td>0</td>\n",
       "      <td>0</td>\n",
       "      <td>50</td>\n",
       "      <td>0</td>\n",
       "      <td>0</td>\n",
       "      <td>0</td>\n",
       "      <td>1</td>\n",
       "      <td>...</td>\n",
       "      <td>0</td>\n",
       "      <td>0</td>\n",
       "      <td>0</td>\n",
       "      <td>0</td>\n",
       "      <td>0</td>\n",
       "      <td>0</td>\n",
       "      <td>0</td>\n",
       "      <td>1</td>\n",
       "      <td>0</td>\n",
       "      <td>0</td>\n",
       "    </tr>\n",
       "  </tbody>\n",
       "</table>\n",
       "<p>5 rows × 100 columns</p>\n",
       "</div>"
      ],
      "text/plain": [
       "       age  fnlwgt  education-num  capital-gain  capital-loss  hours-per-week  \\\n",
       "1536    34  122116             10             0             0              40   \n",
       "20190   36  223020             10             0             0              20   \n",
       "47437   59  165867             13             0             0              25   \n",
       "10192   59  453067             10             0             0              36   \n",
       "38494   36   49657             13             0             0              50   \n",
       "\n",
       "       workclass_Federal-gov  workclass_Local-gov  workclass_Never-worked  \\\n",
       "1536                       0                    0                       0   \n",
       "20190                      0                    0                       0   \n",
       "47437                      0                    0                       0   \n",
       "10192                      0                    0                       0   \n",
       "38494                      0                    0                       0   \n",
       "\n",
       "       workclass_Private  ...  native-country_Portugal  \\\n",
       "1536                   1  ...                        0   \n",
       "20190                  0  ...                        0   \n",
       "47437                  0  ...                        0   \n",
       "10192                  1  ...                        0   \n",
       "38494                  1  ...                        0   \n",
       "\n",
       "       native-country_Puerto-Rico  native-country_Scotland  \\\n",
       "1536                            0                        0   \n",
       "20190                           0                        0   \n",
       "47437                           0                        0   \n",
       "10192                           0                        0   \n",
       "38494                           0                        0   \n",
       "\n",
       "       native-country_South  native-country_Taiwan  native-country_Thailand  \\\n",
       "1536                      0                      0                        0   \n",
       "20190                     0                      0                        0   \n",
       "47437                     0                      0                        0   \n",
       "10192                     0                      0                        0   \n",
       "38494                     0                      0                        0   \n",
       "\n",
       "       native-country_Trinadad&Tobago  native-country_United-States  \\\n",
       "1536                                0                             1   \n",
       "20190                               0                             1   \n",
       "47437                               0                             1   \n",
       "10192                               0                             1   \n",
       "38494                               0                             1   \n",
       "\n",
       "       native-country_Vietnam  native-country_Yugoslavia  \n",
       "1536                        0                          0  \n",
       "20190                       0                          0  \n",
       "47437                       0                          0  \n",
       "10192                       0                          0  \n",
       "38494                       0                          0  \n",
       "\n",
       "[5 rows x 100 columns]"
      ]
     },
     "execution_count": 3,
     "metadata": {},
     "output_type": "execute_result"
    }
   ],
   "source": [
    "import pandas as pd\n",
    "import numpy as np\n",
    "from ucimlrepo import fetch_ucirepo \n",
    "  \n",
    "# fetch dataset \n",
    "adult = fetch_ucirepo(id=2)\n",
    "\n",
    "adult = adult.data.features \n",
    "#drop null values\n",
    "adult = adult.dropna()\n",
    "#convert categorical variables to numerical\n",
    "adult = pd.get_dummies(adult, drop_first=True, dtype=int)\n",
    "print(adult.shape)\n",
    "#tomamos una muestra de 1000 filas\n",
    "adult = adult.sample(n=1000, random_state=42)\n",
    "adult.head()"
   ]
  },
  {
   "cell_type": "markdown",
   "id": "7143905b",
   "metadata": {},
   "source": [
    "# Realizamos los clusters"
   ]
  },
  {
   "cell_type": "code",
   "execution_count": 4,
   "id": "f6a5e3a8",
   "metadata": {},
   "outputs": [],
   "source": [
    "from sklearn.cluster import KMeans, DBSCAN, AgglomerativeClustering, MeanShift, SpectralClustering, AffinityPropagation, Birch, OPTICS, BisectingKMeans\n",
    "from sklearn.mixture import GaussianMixture\n",
    "n_clusters = 2\n",
    "clustering_algorithms = {\n",
    "    'KMeans': KMeans(n_clusters=n_clusters, random_state=42),\n",
    "    'DBSCAN': DBSCAN(eps=0.7, min_samples=5),\n",
    "    'AgglomerativeClustering': AgglomerativeClustering(n_clusters=n_clusters),\n",
    "}\n",
    "results = {}\n",
    "for name, algorithm in clustering_algorithms.items():\n",
    "    try:\n",
    "        algorithm.fit(adult)\n",
    "        if hasattr(algorithm, 'labels_'):\n",
    "            labels = algorithm.labels_\n",
    "        elif hasattr(algorithm, 'predict'):\n",
    "            labels = algorithm.predict(adult)\n",
    "        else:\n",
    "            labels = algorithm.means_.argmax(axis=0)  # For GaussianMixture\n",
    "        results[name] = labels\n",
    "    except Exception as e:\n",
    "        print(f\"Error with {name}: {e}\")"
   ]
  },
  {
   "cell_type": "code",
   "execution_count": 5,
   "id": "e58d6f76",
   "metadata": {},
   "outputs": [
    {
     "data": {
      "image/png": "[encoded data removed]",
      "text/plain": [
       "<Figure size 1500x2000 with 3 Axes>"
      ]
     },
     "metadata": {},
     "output_type": "display_data"
    }
   ],
   "source": [
    "import matplotlib.pyplot as plt\n",
    "from sklearn.decomposition import PCA\n",
    "pca = PCA(n_components=2)\n",
    "adult_pca = pca.fit_transform(adult)\n",
    "plt.figure(figsize=(15, 20))\n",
    "for i, (name, labels) in enumerate(results.items(), 1):\n",
    "    plt.subplot(4, 3, i)\n",
    "    plt.scatter(adult_pca[:, 0], adult_pca[:, 1], c=labels, cmap='viridis', s=10)\n",
    "    plt.title(name)"
   ]
  },
  {
   "cell_type": "code",
   "execution_count": 6,
   "id": "71e7c9eb",
   "metadata": {},
   "outputs": [],
   "source": [
    "#definimos dunn index\n",
    "def dunn_index(data, labels):\n",
    "    unique_labels = np.unique(labels)\n",
    "    if len(unique_labels) < 2:\n",
    "        return 0.0\n",
    "\n",
    "    inter_cluster_distances = []\n",
    "    intra_cluster_distances = []\n",
    "\n",
    "    for i in range(len(unique_labels)):\n",
    "        for j in range(i + 1, len(unique_labels)):\n",
    "            cluster_i = data[labels == unique_labels[i]]\n",
    "            cluster_j = data[labels == unique_labels[j]]\n",
    "            inter_distance = np.linalg.norm(cluster_i.mean(axis=0) - cluster_j.mean(axis=0))\n",
    "            inter_cluster_distances.append(inter_distance)\n",
    "\n",
    "        intra_distance = np.mean([np.linalg.norm(data[labels == unique_label] - data[labels == unique_label].mean(axis=0)) for unique_label in unique_labels])\n",
    "        intra_cluster_distances.append(intra_distance)\n",
    "\n",
    "    dunn_index_value = min(inter_cluster_distances) / max(intra_cluster_distances)\n",
    "    return dunn_index_value"
   ]
  },
  {
   "cell_type": "code",
   "execution_count": 7,
   "id": "a12285f0",
   "metadata": {},
   "outputs": [],
   "source": [
    "#podrias generar una metrica en que se calcule el valor maximo de distancia (entre las menores distancias de cada punto con otro dentro del mismo cluster) dividido por el valor minimo de distancia entre cualquier punto de un cluster con otro punto de otro cluster\n",
    "import numpy as np\n",
    "from sklearn.metrics import pairwise_distances\n",
    "\n",
    "def custom_metric(X, labels):\n",
    "    X = np.array(X)\n",
    "    distances = pairwise_distances(X)\n",
    "    n = len(X)\n",
    "    \n",
    "    # Numerador: máximo de las mínimas distancias dentro del mismo cluster\n",
    "    max_min_intra = -np.inf\n",
    "    for i in range(n):\n",
    "        same_cluster = (labels == labels[i])\n",
    "        same_cluster[i] = False  # Exclude itself\n",
    "        if np.any(same_cluster):\n",
    "            min_dist = np.min(distances[i][same_cluster])\n",
    "            max_min_intra = max(max_min_intra, min_dist)\n",
    "    \n",
    "    # Denominador: mínima distancia entre puntos de distintos clusters\n",
    "    min_inter = np.inf\n",
    "    for i in range(n):\n",
    "        other_cluster = (labels != labels[i])\n",
    "        if np.any(other_cluster):\n",
    "            min_dist = np.min(distances[i][other_cluster])\n",
    "            min_inter = min(min_inter, min_dist)\n",
    "\n",
    "    M = max_min_intra / min_inter if min_inter != 0 else np.inf\n",
    "    return 1 /( 1 + M)\n"
   ]
  },
  {
   "cell_type": "code",
   "execution_count": 8,
   "id": "565506a0",
   "metadata": {},
   "outputs": [
    {
     "data": {
      "application/vnd.microsoft.datawrangler.viewer.v0+json": {
       "columns": [
        {
         "name": "index",
         "rawType": "object",
         "type": "string"
        },
        {
         "name": "Silhouette",
         "rawType": "object",
         "type": "unknown"
        },
        {
         "name": "Calinski-Harabasz",
         "rawType": "object",
         "type": "unknown"
        },
        {
         "name": "Davies-Bouldin",
         "rawType": "object",
         "type": "unknown"
        },
        {
         "name": "Dunn",
         "rawType": "object",
         "type": "unknown"
        },
        {
         "name": "Custom Metric",
         "rawType": "object",
         "type": "unknown"
        },
        {
         "name": "dbcv",
         "rawType": "object",
         "type": "unknown"
        }
       ],
       "ref": "a6347b19-8f26-4ca8-9aa0-728572c019c5",
       "rows": [
        [
         "KMeans",
         "0.5766730279483047",
         "1572.2572930368983",
         "0.6190511089311311",
         "0.12774440210402463",
         "0.008335611317193509",
         "0.7808533771059586"
        ],
        [
         "DBSCAN",
         null,
         null,
         null,
         null,
         null,
         null
        ],
        [
         "AgglomerativeClustering",
         "0.620512044737865",
         "1284.8974547560172",
         "0.4905715420418992",
         "0.16120430038079075",
         "0.015992627206529657",
         "0.7191006356210381"
        ]
       ],
       "shape": {
        "columns": 6,
        "rows": 3
       }
      },
      "text/html": [
       "<div>\n",
       "<style scoped>\n",
       "    .dataframe tbody tr th:only-of-type {\n",
       "        vertical-align: middle;\n",
       "    }\n",
       "\n",
       "    .dataframe tbody tr th {\n",
       "        vertical-align: top;\n",
       "    }\n",
       "\n",
       "    .dataframe thead th {\n",
       "        text-align: right;\n",
       "    }\n",
       "</style>\n",
       "<table border=\"1\" class=\"dataframe\">\n",
       "  <thead>\n",
       "    <tr style=\"text-align: right;\">\n",
       "      <th></th>\n",
       "      <th>Silhouette</th>\n",
       "      <th>Calinski-Harabasz</th>\n",
       "      <th>Davies-Bouldin</th>\n",
       "      <th>Dunn</th>\n",
       "      <th>Custom Metric</th>\n",
       "      <th>dbcv</th>\n",
       "    </tr>\n",
       "  </thead>\n",
       "  <tbody>\n",
       "    <tr>\n",
       "      <th>KMeans</th>\n",
       "      <td>0.576673</td>\n",
       "      <td>1572.257293</td>\n",
       "      <td>0.619051</td>\n",
       "      <td>0.127744</td>\n",
       "      <td>0.008336</td>\n",
       "      <td>0.780853</td>\n",
       "    </tr>\n",
       "    <tr>\n",
       "      <th>DBSCAN</th>\n",
       "      <td>None</td>\n",
       "      <td>None</td>\n",
       "      <td>None</td>\n",
       "      <td>None</td>\n",
       "      <td>None</td>\n",
       "      <td>None</td>\n",
       "    </tr>\n",
       "    <tr>\n",
       "      <th>AgglomerativeClustering</th>\n",
       "      <td>0.620512</td>\n",
       "      <td>1284.897455</td>\n",
       "      <td>0.490572</td>\n",
       "      <td>0.161204</td>\n",
       "      <td>0.015993</td>\n",
       "      <td>0.719101</td>\n",
       "    </tr>\n",
       "  </tbody>\n",
       "</table>\n",
       "</div>"
      ],
      "text/plain": [
       "                        Silhouette Calinski-Harabasz Davies-Bouldin      Dunn  \\\n",
       "KMeans                    0.576673       1572.257293       0.619051  0.127744   \n",
       "DBSCAN                        None              None           None      None   \n",
       "AgglomerativeClustering   0.620512       1284.897455       0.490572  0.161204   \n",
       "\n",
       "                        Custom Metric      dbcv  \n",
       "KMeans                       0.008336  0.780853  \n",
       "DBSCAN                           None      None  \n",
       "AgglomerativeClustering      0.015993  0.719101  "
      ]
     },
     "execution_count": 8,
     "metadata": {},
     "output_type": "execute_result"
    }
   ],
   "source": [
    "from sklearn.metrics import silhouette_score, calinski_harabasz_score, davies_bouldin_score\n",
    "from permetrics import ClusteringMetric\n",
    "def evaluate_clustering(data, labels):\n",
    "    if len(set(labels)) < 2:\n",
    "        return {\n",
    "            'Silhouette Score': None,\n",
    "            'Calinski-Harabasz Score': None,\n",
    "            'Davies-Bouldin Score': None,\n",
    "            'Dunn Index': None,\n",
    "            'custom_metric': None,\n",
    "            'dbcv': None\n",
    "        }\n",
    "    \n",
    "    silhouette = silhouette_score(data, labels)\n",
    "    calinski_harabasz = calinski_harabasz_score(data, labels)\n",
    "    davies_bouldin = davies_bouldin_score(data, labels)\n",
    "    dunn = dunn_index(data.values, labels)\n",
    "    custom = custom_metric(data.values, labels)\n",
    "    dbcv = ClusteringMetric(X=data.values, y_pred=labels).DBCVI()\n",
    "\n",
    "    return {\n",
    "        'Silhouette Score': silhouette,\n",
    "        'Calinski-Harabasz Score': calinski_harabasz,\n",
    "        'Davies-Bouldin Score': davies_bouldin,\n",
    "        'Dunn Index': dunn,\n",
    "        'custom_metric': custom,\n",
    "        'dbcv': dbcv\n",
    "    }\n",
    "evaluation_results = {}\n",
    "for name, labels in results.items():\n",
    "    evaluation_results[name] = evaluate_clustering(adult, labels)\n",
    "evaluation_df = pd.DataFrame(evaluation_results).T\n",
    "evaluation_df = evaluation_df.rename(columns={\n",
    "    'Silhouette Score': 'Silhouette',\n",
    "    'Calinski-Harabasz Score': 'Calinski-Harabasz',\n",
    "    'Davies-Bouldin Score': 'Davies-Bouldin',\n",
    "    'Dunn Index': 'Dunn',\n",
    "    'custom_metric': 'Custom Metric'\n",
    "})\n",
    "evaluation_df"
   ]
  },
  {
   "cell_type": "code",
   "execution_count": 9,
   "id": "83246bda",
   "metadata": {},
   "outputs": [
    {
     "name": "stderr",
     "output_type": "stream",
     "text": [
      "/tmp/ipykernel_271262/2114172724.py:17: FutureWarning: Downcasting object dtype arrays on .fillna, .ffill, .bfill is deprecated and will change in a future version. Call result.infer_objects(copy=False) instead. To opt-in to the future behavior, set `pd.set_option('future.no_silent_downcasting', True)`\n",
      "  evaluation_df_filled = evaluation_df.fillna(0)\n"
     ]
    },
    {
     "data": {
      "application/vnd.microsoft.datawrangler.viewer.v0+json": {
       "columns": [
        {
         "name": "index",
         "rawType": "object",
         "type": "string"
        },
        {
         "name": "Silhouette",
         "rawType": "float64",
         "type": "float"
        },
        {
         "name": "Calinski-Harabasz",
         "rawType": "float64",
         "type": "float"
        },
        {
         "name": "Davies-Bouldin",
         "rawType": "float64",
         "type": "float"
        },
        {
         "name": "Dunn",
         "rawType": "float64",
         "type": "float"
        },
        {
         "name": "Custom Metric",
         "rawType": "float64",
         "type": "float"
        },
        {
         "name": "dbcv",
         "rawType": "float64",
         "type": "float"
        },
        {
         "name": "Weighted Score",
         "rawType": "float64",
         "type": "float"
        }
       ],
       "ref": "b7f6d465-3e4d-4a6d-8460-863280f09f68",
       "rows": [
        [
         "AgglomerativeClustering",
         "0.620512044737865",
         "1284.8974547560172",
         "0.4905715420418992",
         "0.16120430038079075",
         "0.015992627206529657",
         "0.7191006356210381",
         "0.2983607689366195"
        ],
        [
         "KMeans",
         "0.5766730279483047",
         "1572.2572930368983",
         "0.6190511089311311",
         "0.12774440210402463",
         "0.008335611317193509",
         "0.7808533771059586",
         "0.2684533123765861"
        ],
        [
         "DBSCAN",
         "0.0",
         "0.0",
         "0.0",
         "0.0",
         "0.0",
         "0.0",
         "0.0"
        ]
       ],
       "shape": {
        "columns": 7,
        "rows": 3
       }
      },
      "text/html": [
       "<div>\n",
       "<style scoped>\n",
       "    .dataframe tbody tr th:only-of-type {\n",
       "        vertical-align: middle;\n",
       "    }\n",
       "\n",
       "    .dataframe tbody tr th {\n",
       "        vertical-align: top;\n",
       "    }\n",
       "\n",
       "    .dataframe thead th {\n",
       "        text-align: right;\n",
       "    }\n",
       "</style>\n",
       "<table border=\"1\" class=\"dataframe\">\n",
       "  <thead>\n",
       "    <tr style=\"text-align: right;\">\n",
       "      <th></th>\n",
       "      <th>Silhouette</th>\n",
       "      <th>Calinski-Harabasz</th>\n",
       "      <th>Davies-Bouldin</th>\n",
       "      <th>Dunn</th>\n",
       "      <th>Custom Metric</th>\n",
       "      <th>dbcv</th>\n",
       "      <th>Weighted Score</th>\n",
       "    </tr>\n",
       "  </thead>\n",
       "  <tbody>\n",
       "    <tr>\n",
       "      <th>AgglomerativeClustering</th>\n",
       "      <td>0.620512</td>\n",
       "      <td>1284.897455</td>\n",
       "      <td>0.490572</td>\n",
       "      <td>0.161204</td>\n",
       "      <td>0.015993</td>\n",
       "      <td>0.719101</td>\n",
       "      <td>0.298361</td>\n",
       "    </tr>\n",
       "    <tr>\n",
       "      <th>KMeans</th>\n",
       "      <td>0.576673</td>\n",
       "      <td>1572.257293</td>\n",
       "      <td>0.619051</td>\n",
       "      <td>0.127744</td>\n",
       "      <td>0.008336</td>\n",
       "      <td>0.780853</td>\n",
       "      <td>0.268453</td>\n",
       "    </tr>\n",
       "    <tr>\n",
       "      <th>DBSCAN</th>\n",
       "      <td>0.000000</td>\n",
       "      <td>0.000000</td>\n",
       "      <td>0.000000</td>\n",
       "      <td>0.000000</td>\n",
       "      <td>0.000000</td>\n",
       "      <td>0.000000</td>\n",
       "      <td>0.000000</td>\n",
       "    </tr>\n",
       "  </tbody>\n",
       "</table>\n",
       "</div>"
      ],
      "text/plain": [
       "                         Silhouette  Calinski-Harabasz  Davies-Bouldin  \\\n",
       "AgglomerativeClustering    0.620512        1284.897455        0.490572   \n",
       "KMeans                     0.576673        1572.257293        0.619051   \n",
       "DBSCAN                     0.000000           0.000000        0.000000   \n",
       "\n",
       "                             Dunn  Custom Metric      dbcv  Weighted Score  \n",
       "AgglomerativeClustering  0.161204       0.015993  0.719101        0.298361  \n",
       "KMeans                   0.127744       0.008336  0.780853        0.268453  \n",
       "DBSCAN                   0.000000       0.000000  0.000000        0.000000  "
      ]
     },
     "execution_count": 9,
     "metadata": {},
     "output_type": "execute_result"
    }
   ],
   "source": [
    "#elige los mejores 3 resultados ponderando el orden de cada métrica\n",
    "def weighted_score(row):\n",
    "    weights = {\n",
    "        'Silhouette': 0.2,\n",
    "        'Calinski-Harabasz': -0.2,\n",
    "        'Davies-Bouldin': 0.2,  # Negativo porque queremos minimizar\n",
    "        'Dunn': 0.2,\n",
    "        'Custom Metric': 0.5 # Puedes ajustar este peso según su importancia\n",
    "    }\n",
    "    score = (row['Silhouette'] * weights['Silhouette'] +\n",
    "                1/(1+row['Calinski-Harabasz']) * weights['Calinski-Harabasz'] +\n",
    "                1/(1+row['Davies-Bouldin']) * weights['Davies-Bouldin'] +\n",
    "                row['Dunn'] * weights['Dunn'] +\n",
    "                row['Custom Metric'] * weights['Custom Metric'])\n",
    "    return score\n",
    "# Replace None values with 0 for scoring\n",
    "evaluation_df_filled = evaluation_df.fillna(0)\n",
    "evaluation_df_filled['Weighted Score'] = evaluation_df_filled.apply(weighted_score, axis=1)\n",
    "top_3_algorithms = evaluation_df_filled.nlargest(3, 'Weighted Score')\n",
    "top_3_algorithms"
   ]
  },
  {
   "cell_type": "markdown",
   "id": "cd272c38",
   "metadata": {},
   "source": [
    "# Interpretar"
   ]
  },
  {
   "cell_type": "code",
   "execution_count": 10,
   "id": "047e86b2",
   "metadata": {},
   "outputs": [],
   "source": [
    "import sys\n",
    "sys.path.append('../..')\n",
    "from ripper import MultiClassRipperClassifier\n",
    "from dsgd import DSClassifierMultiQ\n",
    "from sklearn.tree import DecisionTreeClassifier\n",
    "from sklearn.model_selection import train_test_split\n",
    "from sklearn.metrics import accuracy_score\n",
    "from sklearn import tree as sk_tree"
   ]
  },
  {
   "cell_type": "code",
   "execution_count": 11,
   "id": "024f7c39",
   "metadata": {},
   "outputs": [
    {
     "name": "stdout",
     "output_type": "stream",
     "text": [
      "Processing AgglomerativeClustering with 2 clusters\n",
      "Ripper Accuracy for AgglomerativeClustering: 0.96\n",
      "Decision Tree Accuracy for AgglomerativeClustering: 1.00\n",
      "Optimization started\n",
      "\n",
      "Training time: 8.24s, epochs: 22\n",
      "\n",
      "Least training loss reached: 0.132\n",
      "DSGD Accuracy for AgglomerativeClustering: 0.85\n",
      "--------------------------------------------------------------------------------\n",
      "Processing KMeans with 2 clusters\n",
      "Ripper Accuracy for KMeans: 0.95\n",
      "Decision Tree Accuracy for KMeans: 1.00\n",
      "Optimization started\n",
      "\n",
      "Training time: 8.30s, epochs: 22\n",
      "\n",
      "Least training loss reached: 0.162\n",
      "DSGD Accuracy for KMeans: 0.74\n",
      "--------------------------------------------------------------------------------\n",
      "Processing DBSCAN with 1 clusters\n"
     ]
    },
    {
     "name": "stderr",
     "output_type": "stream",
     "text": [
      "preprocess.py.py: ._get_pos_class: RuntimeWarning: \n",
      "No negative samples. All target labels=1.\n",
      "\n",
      "ripper.py: .fit: RuntimeWarning: \n",
      "No negative samples. Existing target labels=[1].\n",
      "\n",
      "ripper.py: .fit | base.py: ._check_allpos_allneg: RuntimeWarning: \n",
      "Ruleset is empty. All predictions it makes with method .predict will be negative. It may be untrained or was trained on a dataset split lacking positive examples.\n",
      "\n"
     ]
    },
    {
     "name": "stdout",
     "output_type": "stream",
     "text": [
      "Ripper Accuracy for DBSCAN: 1.00\n",
      "Decision Tree Accuracy for DBSCAN: 1.00\n",
      "Optimization started\n"
     ]
    },
    {
     "ename": "RuntimeError",
     "evalue": "Class values must be non-negative.",
     "output_type": "error",
     "traceback": [
      "\u001b[31m---------------------------------------------------------------------------\u001b[39m",
      "\u001b[31mRuntimeError\u001b[39m                              Traceback (most recent call last)",
      "\u001b[36mCell\u001b[39m\u001b[36m \u001b[39m\u001b[32mIn[11]\u001b[39m\u001b[32m, line 27\u001b[39m\n\u001b[32m     25\u001b[39m ds = DSClassifierMultiQ(n, min_iter=\u001b[32m20\u001b[39m, max_iter=\u001b[32m200\u001b[39m, debug_mode=\u001b[38;5;28;01mTrue\u001b[39;00m, lossfn=\u001b[33m\"\u001b[39m\u001b[33mMSE\u001b[39m\u001b[33m\"\u001b[39m, num_workers=\u001b[32m0\u001b[39m, min_dloss=\u001b[32m1e-7\u001b[39m)\n\u001b[32m     26\u001b[39m X = X_train.to_numpy()\n\u001b[32m---> \u001b[39m\u001b[32m27\u001b[39m losses, epoch, dt = \u001b[43mds\u001b[49m\u001b[43m.\u001b[49m\u001b[43mfit\u001b[49m\u001b[43m(\u001b[49m\u001b[43mX\u001b[49m\u001b[43m,\u001b[49m\u001b[43m \u001b[49m\u001b[43my_train\u001b[49m\u001b[43m,\u001b[49m\u001b[43m \u001b[49m\u001b[43madd_single_rules\u001b[49m\u001b[43m=\u001b[49m\u001b[38;5;28;43;01mTrue\u001b[39;49;00m\u001b[43m,\u001b[49m\u001b[43m \u001b[49m\u001b[43msingle_rules_breaks\u001b[49m\u001b[43m=\u001b[49m\u001b[32;43m3\u001b[39;49m\u001b[43m,\u001b[49m\u001b[43m \u001b[49m\u001b[43madd_mult_rules\u001b[49m\u001b[43m=\u001b[49m\u001b[38;5;28;43;01mFalse\u001b[39;49;00m\u001b[43m,\u001b[49m\u001b[43m \u001b[49m\u001b[43mcolumn_names\u001b[49m\u001b[43m=\u001b[49m\u001b[43mX_train\u001b[49m\u001b[43m.\u001b[49m\u001b[43mcolumns\u001b[49m\u001b[43m)\u001b[49m\n\u001b[32m     28\u001b[39m x_test = X_test.to_numpy()\n\u001b[32m     29\u001b[39m y_pred_ds = ds.predict(x_test)\n",
      "\u001b[36mFile \u001b[39m\u001b[32m~/Documents/GitHub/Trabajo-dirigido-clustering/.venv/lib/python3.12/site-packages/dsgd/DSClassifierMultiQ.py:100\u001b[39m, in \u001b[36mDSClassifierMultiQ.fit\u001b[39m\u001b[34m(self, X, y, add_single_rules, single_rules_breaks, add_mult_rules, column_names, **kwargs)\u001b[39m\n\u001b[32m     98\u001b[39m     \u001b[38;5;28;01mreturn\u001b[39;00m \u001b[38;5;28mself\u001b[39m._optimize_debug_step(X, y, optimizer, criterion, **kwargs)\n\u001b[32m     99\u001b[39m \u001b[38;5;28;01melif\u001b[39;00m \u001b[38;5;28mself\u001b[39m.debug_mode:\n\u001b[32m--> \u001b[39m\u001b[32m100\u001b[39m     \u001b[38;5;28;01mreturn\u001b[39;00m \u001b[38;5;28;43mself\u001b[39;49m\u001b[43m.\u001b[49m\u001b[43m_optimize_debug\u001b[49m\u001b[43m(\u001b[49m\u001b[43mX\u001b[49m\u001b[43m,\u001b[49m\u001b[43m \u001b[49m\u001b[43my\u001b[49m\u001b[43m,\u001b[49m\u001b[43m \u001b[49m\u001b[43moptimizer\u001b[49m\u001b[43m,\u001b[49m\u001b[43m \u001b[49m\u001b[43mcriterion\u001b[49m\u001b[43m,\u001b[49m\u001b[43m \u001b[49m\u001b[43m*\u001b[49m\u001b[43m*\u001b[49m\u001b[43mkwargs\u001b[49m\u001b[43m)\u001b[49m\n\u001b[32m    101\u001b[39m \u001b[38;5;28;01melse\u001b[39;00m:\n\u001b[32m    102\u001b[39m     \u001b[38;5;28;01mreturn\u001b[39;00m \u001b[38;5;28mself\u001b[39m._optimize(X, y, optimizer, criterion, )\n",
      "\u001b[36mFile \u001b[39m\u001b[32m~/Documents/GitHub/Trabajo-dirigido-clustering/.venv/lib/python3.12/site-packages/dsgd/DSClassifierMultiQ.py:166\u001b[39m, in \u001b[36mDSClassifierMultiQ._optimize_debug\u001b[39m\u001b[34m(self, X, y, optimizer, criterion, print_init_model, print_final_model, print_time, print_partial_time, print_every_epochs, print_least_loss, return_partial_dt, disable_all_print, print_epoch_progress)\u001b[39m\n\u001b[32m    164\u001b[39m     yt = Variable(torch.LongTensor(y).to(\u001b[38;5;28mself\u001b[39m.device))\n\u001b[32m    165\u001b[39m \u001b[38;5;28;01melse\u001b[39;00m:\n\u001b[32m--> \u001b[39m\u001b[32m166\u001b[39m     yt = \u001b[43mtorch\u001b[49m\u001b[43m.\u001b[49m\u001b[43mnn\u001b[49m\u001b[43m.\u001b[49m\u001b[43mfunctional\u001b[49m\u001b[43m.\u001b[49m\u001b[43mone_hot\u001b[49m\u001b[43m(\u001b[49m\u001b[43mtorch\u001b[49m\u001b[43m.\u001b[49m\u001b[43mLongTensor\u001b[49m\u001b[43m(\u001b[49m\u001b[43my\u001b[49m\u001b[43m)\u001b[49m\u001b[43m.\u001b[49m\u001b[43mto\u001b[49m\u001b[43m(\u001b[49m\u001b[38;5;28;43mself\u001b[39;49m\u001b[43m.\u001b[49m\u001b[43mdevice\u001b[49m\u001b[43m)\u001b[49m\u001b[43m,\u001b[49m\u001b[43m \u001b[49m\u001b[38;5;28;43mself\u001b[39;49m\u001b[43m.\u001b[49m\u001b[43mk\u001b[49m\u001b[43m)\u001b[49m.float()\n\u001b[32m    168\u001b[39m dataset = torch.utils.data.TensorDataset(Xt, yt)\n\u001b[32m    169\u001b[39m N = \u001b[38;5;28mlen\u001b[39m(dataset)\n",
      "\u001b[31mRuntimeError\u001b[39m: Class values must be non-negative."
     ]
    }
   ],
   "source": [
    "# interpretamos solo los mejores 3 resultados y guardamos los modelos\n",
    "saved_models = {}\n",
    "top_3_labels = {name: results[name] for name in top_3_algorithms.index}\n",
    "top_3_data = adult.copy()\n",
    "for name, labels in top_3_labels.items():\n",
    "    n = len(np.unique(labels))\n",
    "    X_train, X_test, y_train, y_test = train_test_split(top_3_data, labels, test_size=0.2, random_state=42)\n",
    "    print(f'Processing {name} with {n} clusters')\n",
    "    \n",
    "    # Ripper\n",
    "    ripper = MultiClassRipperClassifier(random_state=43)\n",
    "    ripper.fit(X_train, y_train)\n",
    "    y_pred_ripper = ripper.predict(X_test)\n",
    "    print(f'Ripper Accuracy for {name}: {accuracy_score(y_test, y_pred_ripper):.2f}')\n",
    "    saved_models.setdefault(name, {})['ripper'] = ripper\n",
    "    \n",
    "    # Decision Tree\n",
    "    dtree = DecisionTreeClassifier(random_state=42, max_depth=5)\n",
    "    dtree.fit(X_train, y_train)\n",
    "    dtree_pred = dtree.predict(X_test)\n",
    "    print(f'Decision Tree Accuracy for {name}: {accuracy_score(y_test, dtree_pred):.2f}')\n",
    "    saved_models[name]['dtree'] = dtree\n",
    "    \n",
    "    # DSGD\n",
    "    ds = DSClassifierMultiQ(n, min_iter=20, max_iter=200, debug_mode=True, lossfn=\"MSE\", num_workers=0, min_dloss=1e-7)\n",
    "    X = X_train.to_numpy()\n",
    "    losses, epoch, dt = ds.fit(X, y_train, add_single_rules=True, single_rules_breaks=3, add_mult_rules=False, column_names=X_train.columns)\n",
    "    x_test = X_test.to_numpy()\n",
    "    y_pred_ds = ds.predict(x_test)\n",
    "    print(f'DSGD Accuracy for {name}: {accuracy_score(y_test, y_pred_ds):.2f}')\n",
    "    saved_models[name]['ds'] = ds\n",
    "    \n",
    "    print('--' * 40)\n"
   ]
  }
 ],
 "metadata": {
  "kernelspec": {
   "display_name": ".venv",
   "language": "python",
   "name": "python3"
  },
  "language_info": {
   "codemirror_mode": {
    "name": "ipython",
    "version": 3
   },
   "file_extension": ".py",
   "mimetype": "text/x-python",
   "name": "python",
   "nbconvert_exporter": "python",
   "pygments_lexer": "ipython3",
   "version": "3.12.3"
  }
 },
 "nbformat": 4,
 "nbformat_minor": 5
}
