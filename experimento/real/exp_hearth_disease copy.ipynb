{
 "cells": [
  {
   "cell_type": "markdown",
   "id": "1f2e4806",
   "metadata": {},
   "source": [
    "# Leer datasets"
   ]
  },
  {
   "cell_type": "code",
   "execution_count": 1,
   "id": "cdf05312",
   "metadata": {},
   "outputs": [
    {
     "name": "stdout",
     "output_type": "stream",
     "text": [
      "(297, 13)\n"
     ]
    },
    {
     "data": {
      "application/vnd.microsoft.datawrangler.viewer.v0+json": {
       "columns": [
        {
         "name": "index",
         "rawType": "int64",
         "type": "integer"
        },
        {
         "name": "age",
         "rawType": "int64",
         "type": "integer"
        },
        {
         "name": "sex",
         "rawType": "int64",
         "type": "integer"
        },
        {
         "name": "cp",
         "rawType": "int64",
         "type": "integer"
        },
        {
         "name": "trestbps",
         "rawType": "int64",
         "type": "integer"
        },
        {
         "name": "chol",
         "rawType": "int64",
         "type": "integer"
        },
        {
         "name": "fbs",
         "rawType": "int64",
         "type": "integer"
        },
        {
         "name": "restecg",
         "rawType": "int64",
         "type": "integer"
        },
        {
         "name": "thalach",
         "rawType": "int64",
         "type": "integer"
        },
        {
         "name": "exang",
         "rawType": "int64",
         "type": "integer"
        },
        {
         "name": "oldpeak",
         "rawType": "float64",
         "type": "float"
        },
        {
         "name": "slope",
         "rawType": "int64",
         "type": "integer"
        },
        {
         "name": "ca",
         "rawType": "float64",
         "type": "float"
        },
        {
         "name": "thal",
         "rawType": "float64",
         "type": "float"
        }
       ],
       "ref": "2c55e4c9-9088-47d5-a2e1-9e73d5e9bcc8",
       "rows": [
        [
         "0",
         "63",
         "1",
         "1",
         "145",
         "233",
         "1",
         "2",
         "150",
         "0",
         "2.3",
         "3",
         "0.0",
         "6.0"
        ],
        [
         "1",
         "67",
         "1",
         "4",
         "160",
         "286",
         "0",
         "2",
         "108",
         "1",
         "1.5",
         "2",
         "3.0",
         "3.0"
        ],
        [
         "2",
         "67",
         "1",
         "4",
         "120",
         "229",
         "0",
         "2",
         "129",
         "1",
         "2.6",
         "2",
         "2.0",
         "7.0"
        ],
        [
         "3",
         "37",
         "1",
         "3",
         "130",
         "250",
         "0",
         "0",
         "187",
         "0",
         "3.5",
         "3",
         "0.0",
         "3.0"
        ],
        [
         "4",
         "41",
         "0",
         "2",
         "130",
         "204",
         "0",
         "2",
         "172",
         "0",
         "1.4",
         "1",
         "0.0",
         "3.0"
        ]
       ],
       "shape": {
        "columns": 13,
        "rows": 5
       }
      },
      "text/html": [
       "<div>\n",
       "<style scoped>\n",
       "    .dataframe tbody tr th:only-of-type {\n",
       "        vertical-align: middle;\n",
       "    }\n",
       "\n",
       "    .dataframe tbody tr th {\n",
       "        vertical-align: top;\n",
       "    }\n",
       "\n",
       "    .dataframe thead th {\n",
       "        text-align: right;\n",
       "    }\n",
       "</style>\n",
       "<table border=\"1\" class=\"dataframe\">\n",
       "  <thead>\n",
       "    <tr style=\"text-align: right;\">\n",
       "      <th></th>\n",
       "      <th>age</th>\n",
       "      <th>sex</th>\n",
       "      <th>cp</th>\n",
       "      <th>trestbps</th>\n",
       "      <th>chol</th>\n",
       "      <th>fbs</th>\n",
       "      <th>restecg</th>\n",
       "      <th>thalach</th>\n",
       "      <th>exang</th>\n",
       "      <th>oldpeak</th>\n",
       "      <th>slope</th>\n",
       "      <th>ca</th>\n",
       "      <th>thal</th>\n",
       "    </tr>\n",
       "  </thead>\n",
       "  <tbody>\n",
       "    <tr>\n",
       "      <th>0</th>\n",
       "      <td>63</td>\n",
       "      <td>1</td>\n",
       "      <td>1</td>\n",
       "      <td>145</td>\n",
       "      <td>233</td>\n",
       "      <td>1</td>\n",
       "      <td>2</td>\n",
       "      <td>150</td>\n",
       "      <td>0</td>\n",
       "      <td>2.3</td>\n",
       "      <td>3</td>\n",
       "      <td>0.0</td>\n",
       "      <td>6.0</td>\n",
       "    </tr>\n",
       "    <tr>\n",
       "      <th>1</th>\n",
       "      <td>67</td>\n",
       "      <td>1</td>\n",
       "      <td>4</td>\n",
       "      <td>160</td>\n",
       "      <td>286</td>\n",
       "      <td>0</td>\n",
       "      <td>2</td>\n",
       "      <td>108</td>\n",
       "      <td>1</td>\n",
       "      <td>1.5</td>\n",
       "      <td>2</td>\n",
       "      <td>3.0</td>\n",
       "      <td>3.0</td>\n",
       "    </tr>\n",
       "    <tr>\n",
       "      <th>2</th>\n",
       "      <td>67</td>\n",
       "      <td>1</td>\n",
       "      <td>4</td>\n",
       "      <td>120</td>\n",
       "      <td>229</td>\n",
       "      <td>0</td>\n",
       "      <td>2</td>\n",
       "      <td>129</td>\n",
       "      <td>1</td>\n",
       "      <td>2.6</td>\n",
       "      <td>2</td>\n",
       "      <td>2.0</td>\n",
       "      <td>7.0</td>\n",
       "    </tr>\n",
       "    <tr>\n",
       "      <th>3</th>\n",
       "      <td>37</td>\n",
       "      <td>1</td>\n",
       "      <td>3</td>\n",
       "      <td>130</td>\n",
       "      <td>250</td>\n",
       "      <td>0</td>\n",
       "      <td>0</td>\n",
       "      <td>187</td>\n",
       "      <td>0</td>\n",
       "      <td>3.5</td>\n",
       "      <td>3</td>\n",
       "      <td>0.0</td>\n",
       "      <td>3.0</td>\n",
       "    </tr>\n",
       "    <tr>\n",
       "      <th>4</th>\n",
       "      <td>41</td>\n",
       "      <td>0</td>\n",
       "      <td>2</td>\n",
       "      <td>130</td>\n",
       "      <td>204</td>\n",
       "      <td>0</td>\n",
       "      <td>2</td>\n",
       "      <td>172</td>\n",
       "      <td>0</td>\n",
       "      <td>1.4</td>\n",
       "      <td>1</td>\n",
       "      <td>0.0</td>\n",
       "      <td>3.0</td>\n",
       "    </tr>\n",
       "  </tbody>\n",
       "</table>\n",
       "</div>"
      ],
      "text/plain": [
       "   age  sex  cp  trestbps  chol  fbs  restecg  thalach  exang  oldpeak  slope  \\\n",
       "0   63    1   1       145   233    1        2      150      0      2.3      3   \n",
       "1   67    1   4       160   286    0        2      108      1      1.5      2   \n",
       "2   67    1   4       120   229    0        2      129      1      2.6      2   \n",
       "3   37    1   3       130   250    0        0      187      0      3.5      3   \n",
       "4   41    0   2       130   204    0        2      172      0      1.4      1   \n",
       "\n",
       "    ca  thal  \n",
       "0  0.0   6.0  \n",
       "1  3.0   3.0  \n",
       "2  2.0   7.0  \n",
       "3  0.0   3.0  \n",
       "4  0.0   3.0  "
      ]
     },
     "execution_count": 1,
     "metadata": {},
     "output_type": "execute_result"
    }
   ],
   "source": [
    "import pandas as pd\n",
    "import numpy as np\n",
    "from ucimlrepo import fetch_ucirepo \n",
    "  \n",
    "# fetch dataset \n",
    "heart_disease = fetch_ucirepo(id=45) \n",
    "\n",
    "heart_disease = heart_disease.data.features \n",
    "#drop null values\n",
    "heart_disease = heart_disease.dropna()\n",
    "print(heart_disease.shape)\n",
    "heart_disease.head()"
   ]
  },
  {
   "cell_type": "markdown",
   "id": "7143905b",
   "metadata": {},
   "source": [
    "# Realizamos los clusters"
   ]
  },
  {
   "cell_type": "code",
   "execution_count": 2,
   "id": "f6a5e3a8",
   "metadata": {},
   "outputs": [],
   "source": [
    "from sklearn.cluster import KMeans, DBSCAN, AgglomerativeClustering, MeanShift, SpectralClustering, AffinityPropagation, Birch, OPTICS, BisectingKMeans\n",
    "from sklearn.mixture import GaussianMixture\n",
    "n_clusters = 3\n",
    "clustering_algorithms = {\n",
    "    'KMeans': KMeans(n_clusters=n_clusters, random_state=42),\n",
    "    'AgglomerativeClustering': AgglomerativeClustering(n_clusters=n_clusters),\n",
    "}\n",
    "results = {}\n",
    "for name, algorithm in clustering_algorithms.items():\n",
    "    try:\n",
    "        algorithm.fit(heart_disease)\n",
    "        if hasattr(algorithm, 'labels_'):\n",
    "            labels = algorithm.labels_\n",
    "        elif hasattr(algorithm, 'predict'):\n",
    "            labels = algorithm.predict(heart_disease)\n",
    "        else:\n",
    "            labels = algorithm.means_.argmax(axis=0)  # For GaussianMixture\n",
    "        results[name] = labels\n",
    "    except Exception as e:\n",
    "        print(f\"Error with {name}: {e}\")"
   ]
  },
  {
   "cell_type": "code",
   "execution_count": 3,
   "id": "e58d6f76",
   "metadata": {},
   "outputs": [
    {
     "data": {
      "image/png": "[encoded data removed]",
      "text/plain": [
       "<Figure size 1500x2000 with 2 Axes>"
      ]
     },
     "metadata": {},
     "output_type": "display_data"
    }
   ],
   "source": [
    "import matplotlib.pyplot as plt\n",
    "from sklearn.decomposition import PCA\n",
    "pca = PCA(n_components=2)\n",
    "heart_disease_pca = pca.fit_transform(heart_disease)\n",
    "plt.figure(figsize=(15, 20))\n",
    "for i, (name, labels) in enumerate(results.items(), 1):\n",
    "    plt.subplot(4, 3, i)\n",
    "    plt.scatter(heart_disease_pca[:, 0], heart_disease_pca[:, 1], c=labels, cmap='viridis', s=10)\n",
    "    plt.title(name)"
   ]
  },
  {
   "cell_type": "code",
   "execution_count": 4,
   "id": "71e7c9eb",
   "metadata": {},
   "outputs": [],
   "source": [
    "#definimos dunn index\n",
    "def dunn_index(data, labels):\n",
    "    unique_labels = np.unique(labels)\n",
    "    if len(unique_labels) < 2:\n",
    "        return 0.0\n",
    "\n",
    "    inter_cluster_distances = []\n",
    "    intra_cluster_distances = []\n",
    "\n",
    "    for i in range(len(unique_labels)):\n",
    "        for j in range(i + 1, len(unique_labels)):\n",
    "            cluster_i = data[labels == unique_labels[i]]\n",
    "            cluster_j = data[labels == unique_labels[j]]\n",
    "            inter_distance = np.linalg.norm(cluster_i.mean(axis=0) - cluster_j.mean(axis=0))\n",
    "            inter_cluster_distances.append(inter_distance)\n",
    "\n",
    "        intra_distance = np.mean([np.linalg.norm(data[labels == unique_label] - data[labels == unique_label].mean(axis=0)) for unique_label in unique_labels])\n",
    "        intra_cluster_distances.append(intra_distance)\n",
    "\n",
    "    dunn_index_value = min(inter_cluster_distances) / max(intra_cluster_distances)\n",
    "    return dunn_index_value"
   ]
  },
  {
   "cell_type": "code",
   "execution_count": 5,
   "id": "a12285f0",
   "metadata": {},
   "outputs": [],
   "source": [
    "#podrias generar una metrica en que se calcule el valor maximo de distancia (entre las menores distancias de cada punto con otro dentro del mismo cluster) dividido por el valor minimo de distancia entre cualquier punto de un cluster con otro punto de otro cluster\n",
    "import numpy as np\n",
    "from sklearn.metrics import pairwise_distances\n",
    "\n",
    "def custom_metric(X, labels):\n",
    "    X = np.array(X)\n",
    "    distances = pairwise_distances(X)\n",
    "    n = len(X)\n",
    "    \n",
    "    # Numerador: máximo de las mínimas distancias dentro del mismo cluster\n",
    "    max_min_intra = -np.inf\n",
    "    for i in range(n):\n",
    "        same_cluster = (labels == labels[i])\n",
    "        same_cluster[i] = False  # Exclude itself\n",
    "        if np.any(same_cluster):\n",
    "            min_dist = np.min(distances[i][same_cluster])\n",
    "            max_min_intra = max(max_min_intra, min_dist)\n",
    "    \n",
    "    # Denominador: mínima distancia entre puntos de distintos clusters\n",
    "    min_inter = np.inf\n",
    "    for i in range(n):\n",
    "        other_cluster = (labels != labels[i])\n",
    "        if np.any(other_cluster):\n",
    "            min_dist = np.min(distances[i][other_cluster])\n",
    "            min_inter = min(min_inter, min_dist)\n",
    "\n",
    "    M = max_min_intra / min_inter if min_inter != 0 else np.inf\n",
    "    return 1 /( 1 + M)\n"
   ]
  },
  {
   "cell_type": "code",
   "execution_count": 6,
   "id": "565506a0",
   "metadata": {},
   "outputs": [
    {
     "data": {
      "application/vnd.microsoft.datawrangler.viewer.v0+json": {
       "columns": [
        {
         "name": "index",
         "rawType": "object",
         "type": "string"
        },
        {
         "name": "Silhouette",
         "rawType": "float64",
         "type": "float"
        },
        {
         "name": "Calinski-Harabasz",
         "rawType": "float64",
         "type": "float"
        },
        {
         "name": "Davies-Bouldin",
         "rawType": "float64",
         "type": "float"
        },
        {
         "name": "Dunn",
         "rawType": "float64",
         "type": "float"
        },
        {
         "name": "Custom Metric",
         "rawType": "float64",
         "type": "float"
        },
        {
         "name": "dbcv",
         "rawType": "float64",
         "type": "float"
        }
       ],
       "ref": "83c76cb5-205c-4971-bd9d-ca00d8249850",
       "rows": [
        [
         "KMeans",
         "0.284387778935172",
         "191.14224120875744",
         "1.1445928835274057",
         "0.1418446300817584",
         "0.0396719956882283",
         "0.9508783413573995"
        ],
        [
         "AgglomerativeClustering",
         "0.23942642008001247",
         "168.9844784387435",
         "1.294714659375318",
         "0.12574558308920886",
         "0.07538171142870205",
         "0.9545313228503955"
        ]
       ],
       "shape": {
        "columns": 6,
        "rows": 2
       }
      },
      "text/html": [
       "<div>\n",
       "<style scoped>\n",
       "    .dataframe tbody tr th:only-of-type {\n",
       "        vertical-align: middle;\n",
       "    }\n",
       "\n",
       "    .dataframe tbody tr th {\n",
       "        vertical-align: top;\n",
       "    }\n",
       "\n",
       "    .dataframe thead th {\n",
       "        text-align: right;\n",
       "    }\n",
       "</style>\n",
       "<table border=\"1\" class=\"dataframe\">\n",
       "  <thead>\n",
       "    <tr style=\"text-align: right;\">\n",
       "      <th></th>\n",
       "      <th>Silhouette</th>\n",
       "      <th>Calinski-Harabasz</th>\n",
       "      <th>Davies-Bouldin</th>\n",
       "      <th>Dunn</th>\n",
       "      <th>Custom Metric</th>\n",
       "      <th>dbcv</th>\n",
       "    </tr>\n",
       "  </thead>\n",
       "  <tbody>\n",
       "    <tr>\n",
       "      <th>KMeans</th>\n",
       "      <td>0.284388</td>\n",
       "      <td>191.142241</td>\n",
       "      <td>1.144593</td>\n",
       "      <td>0.141845</td>\n",
       "      <td>0.039672</td>\n",
       "      <td>0.950878</td>\n",
       "    </tr>\n",
       "    <tr>\n",
       "      <th>AgglomerativeClustering</th>\n",
       "      <td>0.239426</td>\n",
       "      <td>168.984478</td>\n",
       "      <td>1.294715</td>\n",
       "      <td>0.125746</td>\n",
       "      <td>0.075382</td>\n",
       "      <td>0.954531</td>\n",
       "    </tr>\n",
       "  </tbody>\n",
       "</table>\n",
       "</div>"
      ],
      "text/plain": [
       "                         Silhouette  Calinski-Harabasz  Davies-Bouldin  \\\n",
       "KMeans                     0.284388         191.142241        1.144593   \n",
       "AgglomerativeClustering    0.239426         168.984478        1.294715   \n",
       "\n",
       "                             Dunn  Custom Metric      dbcv  \n",
       "KMeans                   0.141845       0.039672  0.950878  \n",
       "AgglomerativeClustering  0.125746       0.075382  0.954531  "
      ]
     },
     "execution_count": 6,
     "metadata": {},
     "output_type": "execute_result"
    }
   ],
   "source": [
    "from sklearn.metrics import silhouette_score, calinski_harabasz_score, davies_bouldin_score\n",
    "from permetrics import ClusteringMetric\n",
    "def evaluate_clustering(data, labels):\n",
    "    if len(set(labels)) < 2:\n",
    "        return {\n",
    "            'Silhouette Score': None,\n",
    "            'Calinski-Harabasz Score': None,\n",
    "            'Davies-Bouldin Score': None,\n",
    "            'Dunn Index': None,\n",
    "            'custom_metric': None,\n",
    "            'dbcv': None\n",
    "        }\n",
    "    \n",
    "    silhouette = silhouette_score(data, labels)\n",
    "    calinski_harabasz = calinski_harabasz_score(data, labels)\n",
    "    davies_bouldin = davies_bouldin_score(data, labels)\n",
    "    dunn = dunn_index(data.values, labels)\n",
    "    custom = custom_metric(data.values, labels)\n",
    "    dbcv = ClusteringMetric(X=data.values, y_pred=labels).DBCVI()\n",
    "\n",
    "    return {\n",
    "        'Silhouette Score': silhouette,\n",
    "        'Calinski-Harabasz Score': calinski_harabasz,\n",
    "        'Davies-Bouldin Score': davies_bouldin,\n",
    "        'Dunn Index': dunn,\n",
    "        'custom_metric': custom,\n",
    "        'dbcv': dbcv\n",
    "    }\n",
    "evaluation_results = {}\n",
    "for name, labels in results.items():\n",
    "    evaluation_results[name] = evaluate_clustering(heart_disease, labels)\n",
    "evaluation_df = pd.DataFrame(evaluation_results).T\n",
    "evaluation_df = evaluation_df.rename(columns={\n",
    "    'Silhouette Score': 'Silhouette',\n",
    "    'Calinski-Harabasz Score': 'Calinski-Harabasz',\n",
    "    'Davies-Bouldin Score': 'Davies-Bouldin',\n",
    "    'Dunn Index': 'Dunn',\n",
    "    'custom_metric': 'Custom Metric'\n",
    "})\n",
    "evaluation_df"
   ]
  },
  {
   "cell_type": "code",
   "execution_count": 7,
   "id": "83246bda",
   "metadata": {},
   "outputs": [
    {
     "data": {
      "application/vnd.microsoft.datawrangler.viewer.v0+json": {
       "columns": [
        {
         "name": "index",
         "rawType": "object",
         "type": "string"
        },
        {
         "name": "Silhouette",
         "rawType": "float64",
         "type": "float"
        },
        {
         "name": "Calinski-Harabasz",
         "rawType": "float64",
         "type": "float"
        },
        {
         "name": "Davies-Bouldin",
         "rawType": "float64",
         "type": "float"
        },
        {
         "name": "Dunn",
         "rawType": "float64",
         "type": "float"
        },
        {
         "name": "Custom Metric",
         "rawType": "float64",
         "type": "float"
        },
        {
         "name": "dbcv",
         "rawType": "float64",
         "type": "float"
        },
        {
         "name": "Weighted Score",
         "rawType": "float64",
         "type": "float"
        }
       ],
       "ref": "38d78cc3-ee5c-4578-988f-6f1dc9ed03cd",
       "rows": [
        [
         "KMeans",
         "0.284387778935172",
         "191.14224120875744",
         "1.1445928835274057",
         "0.1418446300817584",
         "0.0396719956882283",
         "0.9508783413573995",
         "0.1972993774899299"
        ],
        [
         "AgglomerativeClustering",
         "0.23942642008001247",
         "168.9844784387435",
         "1.294714659375318",
         "0.12574558308920886",
         "0.07538171142870205",
         "0.9545313228503955",
         "0.1967054841634443"
        ]
       ],
       "shape": {
        "columns": 7,
        "rows": 2
       }
      },
      "text/html": [
       "<div>\n",
       "<style scoped>\n",
       "    .dataframe tbody tr th:only-of-type {\n",
       "        vertical-align: middle;\n",
       "    }\n",
       "\n",
       "    .dataframe tbody tr th {\n",
       "        vertical-align: top;\n",
       "    }\n",
       "\n",
       "    .dataframe thead th {\n",
       "        text-align: right;\n",
       "    }\n",
       "</style>\n",
       "<table border=\"1\" class=\"dataframe\">\n",
       "  <thead>\n",
       "    <tr style=\"text-align: right;\">\n",
       "      <th></th>\n",
       "      <th>Silhouette</th>\n",
       "      <th>Calinski-Harabasz</th>\n",
       "      <th>Davies-Bouldin</th>\n",
       "      <th>Dunn</th>\n",
       "      <th>Custom Metric</th>\n",
       "      <th>dbcv</th>\n",
       "      <th>Weighted Score</th>\n",
       "    </tr>\n",
       "  </thead>\n",
       "  <tbody>\n",
       "    <tr>\n",
       "      <th>KMeans</th>\n",
       "      <td>0.284388</td>\n",
       "      <td>191.142241</td>\n",
       "      <td>1.144593</td>\n",
       "      <td>0.141845</td>\n",
       "      <td>0.039672</td>\n",
       "      <td>0.950878</td>\n",
       "      <td>0.197299</td>\n",
       "    </tr>\n",
       "    <tr>\n",
       "      <th>AgglomerativeClustering</th>\n",
       "      <td>0.239426</td>\n",
       "      <td>168.984478</td>\n",
       "      <td>1.294715</td>\n",
       "      <td>0.125746</td>\n",
       "      <td>0.075382</td>\n",
       "      <td>0.954531</td>\n",
       "      <td>0.196705</td>\n",
       "    </tr>\n",
       "  </tbody>\n",
       "</table>\n",
       "</div>"
      ],
      "text/plain": [
       "                         Silhouette  Calinski-Harabasz  Davies-Bouldin  \\\n",
       "KMeans                     0.284388         191.142241        1.144593   \n",
       "AgglomerativeClustering    0.239426         168.984478        1.294715   \n",
       "\n",
       "                             Dunn  Custom Metric      dbcv  Weighted Score  \n",
       "KMeans                   0.141845       0.039672  0.950878        0.197299  \n",
       "AgglomerativeClustering  0.125746       0.075382  0.954531        0.196705  "
      ]
     },
     "execution_count": 7,
     "metadata": {},
     "output_type": "execute_result"
    }
   ],
   "source": [
    "#elige los mejores 3 resultados ponderando el orden de cada métrica\n",
    "def weighted_score(row):\n",
    "    weights = {\n",
    "        'Silhouette': 0.2,\n",
    "        'Calinski-Harabasz': -0.2,\n",
    "        'Davies-Bouldin': 0.2,  # Negativo porque queremos minimizar\n",
    "        'Dunn': 0.2,\n",
    "        'Custom Metric': 0.5 # Puedes ajustar este peso según su importancia\n",
    "    }\n",
    "    score = (row['Silhouette'] * weights['Silhouette'] +\n",
    "                1/(1+row['Calinski-Harabasz']) * weights['Calinski-Harabasz'] +\n",
    "                1/(1+row['Davies-Bouldin']) * weights['Davies-Bouldin'] +\n",
    "                row['Dunn'] * weights['Dunn'] +\n",
    "                row['Custom Metric'] * weights['Custom Metric'])\n",
    "    return score\n",
    "# Replace None values with 0 for scoring\n",
    "evaluation_df_filled = evaluation_df.fillna(0)\n",
    "evaluation_df_filled['Weighted Score'] = evaluation_df_filled.apply(weighted_score, axis=1)\n",
    "top_3_algorithms = evaluation_df_filled.nlargest(3, 'Weighted Score')\n",
    "top_3_algorithms"
   ]
  },
  {
   "cell_type": "markdown",
   "id": "cd272c38",
   "metadata": {},
   "source": [
    "# Interpretar"
   ]
  },
  {
   "cell_type": "code",
   "execution_count": 8,
   "id": "047e86b2",
   "metadata": {},
   "outputs": [],
   "source": [
    "import sys\n",
    "sys.path.append('../..')\n",
    "from ripper import MultiClassRipperClassifier\n",
    "from dsgd import DSClassifierMultiQ\n",
    "from sklearn.tree import DecisionTreeClassifier\n",
    "from sklearn.model_selection import train_test_split\n",
    "from sklearn.metrics import accuracy_score\n",
    "from sklearn import tree as sk_tree"
   ]
  },
  {
   "cell_type": "code",
   "execution_count": 9,
   "id": "024f7c39",
   "metadata": {},
   "outputs": [
    {
     "name": "stdout",
     "output_type": "stream",
     "text": [
      "Processing KMeans with 3 clusters\n",
      "Ripper Accuracy for KMeans: 1.00\n",
      "Decision Tree Accuracy for KMeans: 1.00\n",
      "Optimization started\n",
      "\n",
      "Training time: 9.27s, epochs: 200\n",
      "\n",
      "Least training loss reached: 0.045\n",
      "DSGD Accuracy for KMeans: 0.92\n",
      "--------------------------------------------------------------------------------\n",
      "Processing AgglomerativeClustering with 3 clusters\n",
      "Ripper Accuracy for AgglomerativeClustering: 0.90\n",
      "Decision Tree Accuracy for AgglomerativeClustering: 0.88\n",
      "Optimization started\n",
      "\n",
      "Training time: 9.06s, epochs: 200\n",
      "\n",
      "Least training loss reached: 0.060\n",
      "DSGD Accuracy for AgglomerativeClustering: 0.82\n",
      "--------------------------------------------------------------------------------\n"
     ]
    }
   ],
   "source": [
    "# interpretamos solo los mejores 3 resultados y guardamos los modelos\n",
    "saved_models = {}\n",
    "top_3_labels = {name: results[name] for name in top_3_algorithms.index}\n",
    "top_3_data = heart_disease.copy()\n",
    "for name, labels in top_3_labels.items():\n",
    "    n = len(np.unique(labels))\n",
    "    X_train, X_test, y_train, y_test = train_test_split(top_3_data, labels, test_size=0.2, random_state=42)\n",
    "    print(f'Processing {name} with {n} clusters')\n",
    "    \n",
    "    # Ripper\n",
    "    ripper = MultiClassRipperClassifier(random_state=43)\n",
    "    ripper.fit(X_train, y_train)\n",
    "    y_pred_ripper = ripper.predict(X_test)\n",
    "    print(f'Ripper Accuracy for {name}: {accuracy_score(y_test, y_pred_ripper):.2f}')\n",
    "    saved_models.setdefault(name, {})['ripper'] = ripper\n",
    "    \n",
    "    # Decision Tree\n",
    "    dtree = DecisionTreeClassifier(random_state=42, max_depth=5)\n",
    "    dtree.fit(X_train, y_train)\n",
    "    dtree_pred = dtree.predict(X_test)\n",
    "    print(f'Decision Tree Accuracy for {name}: {accuracy_score(y_test, dtree_pred):.2f}')\n",
    "    saved_models[name]['dtree'] = dtree\n",
    "    \n",
    "    # DSGD\n",
    "    ds = DSClassifierMultiQ(n, min_iter=20, max_iter=200, debug_mode=True, lossfn=\"MSE\", num_workers=0, min_dloss=1e-7)\n",
    "    X = X_train.to_numpy()\n",
    "    losses, epoch, dt = ds.fit(X, y_train, add_single_rules=True, single_rules_breaks=3, add_mult_rules=False, column_names=X_train.columns)\n",
    "    x_test = X_test.to_numpy()\n",
    "    y_pred_ds = ds.predict(x_test)\n",
    "    print(f'DSGD Accuracy for {name}: {accuracy_score(y_test, y_pred_ds):.2f}')\n",
    "    saved_models[name]['ds'] = ds\n",
    "    \n",
    "    print('--' * 40)\n"
   ]
  }
 ],
 "metadata": {
  "kernelspec": {
   "display_name": ".venv",
   "language": "python",
   "name": "python3"
  },
  "language_info": {
   "codemirror_mode": {
    "name": "ipython",
    "version": 3
   },
   "file_extension": ".py",
   "mimetype": "text/x-python",
   "name": "python",
   "nbconvert_exporter": "python",
   "pygments_lexer": "ipython3",
   "version": "3.12.3"
  }
 },
 "nbformat": 4,
 "nbformat_minor": 5
}
